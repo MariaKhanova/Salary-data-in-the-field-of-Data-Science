{
 "cells": [
  {
   "cell_type": "markdown",
   "metadata": {},
   "source": [
    "# <center> ИССЛЕДОВАНИЕ ДАННЫХ HR-АГЕНТСТВА\n",
    "\n",
    "## Постановка задачи\n",
    "\n",
    "HR-агентство изучает тренды на рынке труда в IT. Компания хочет провести исследование на основе данных о зарплатах в сфере Data Science за 2020–2022 годы и получить некоторые выводы."
   ]
  },
  {
   "cell_type": "markdown",
   "metadata": {},
   "source": [
    "Исследуйте данные и сделайте выводы по полученным результатам. Подкрепите свои рассуждения и выводы визуализациями и с помощью статистического тестирования проверьте, являются ли выводы статистически значимыми.\n",
    "\n",
    "В процессе своего анализа вы должны:\n",
    "\n",
    "1. Выяснить, какие факторы влияют на зарплату специалиста Data Scientist.\n",
    "2. А также ответить на ключевые вопросы HR-агентства:\n",
    "    * Наблюдается ли ежегодный рост зарплат у специалистов Data Scientist?\n",
    "    * Как соотносятся зарплаты Data Scientist и Data Engineer в 2022 году?\n",
    "    * Как соотносятся зарплаты специалистов Data Scientist в компаниях различных размеров?\n",
    "    * Есть ли связь между наличием должностей Data Scientist и Data Engineer и размером компании?\n",
    "\n",
    "Если вы найдёте в данных интересные закономерности, также отметьте их в своём анализе.\n",
    "\n",
    "Продемонстрируйте использование разных тестов для проверки статистической значимости сделанных выводов:\n",
    "\n",
    "* тесты для количественного признака:\n",
    "    * для одной выборки;\n",
    "    * для двух выборок;\n",
    "    * для нескольких выборок;\n",
    "* тест для категориальных признаков."
   ]
  },
  {
   "cell_type": "markdown",
   "metadata": {},
   "source": [
    "\n",
    "Данные содержат следующие столбцы:\n",
    "|НАИМЕНОВАНИЕ СТОЛБЦА  | ОПИСАНИЕ                                |\n",
    "|:-------------------- |:---------------------------------------|\n",
    "|work_year\t           |Год, в котором была выплачена зарплата.  |\n",
    "|experience_level      |Опыт работы на этой должности в течение года  со следующими возможными значениями: <br/> - EN — Entry-level/Junior;<br/> - MI — Mid-level/Intermediate;<br/> - SE — Senior-level/Expert;<br/> - EX — Executive-level/Director.|\n",
    "|employment_type\t   |Тип трудоустройства для этой роли:<br/>- PT — неполный рабочий день;<br/> - FT — полный рабочий день;<br/> - CT — контракт;<br/> - FL — фриланс.|\n",
    "|job_title\t|Роль, в которой соискатель работал в течение года.|\n",
    "|salary\t|Общая выплаченная валовая сумма заработной платы.|\n",
    "|salary_currency\t|Валюта выплачиваемой заработной платы в виде кода валюты ISO 4217.|\n",
    "|salary_in_usd\t|Зарплата в долларах США (валютный курс, делённый на среднее значение курса доллара США за соответствующий год через fxdata.foorilla.com).|\n",
    "|employee_residence\t|Основная страна проживания сотрудника в течение рабочего года в виде кода страны ISO 3166.|\n",
    "|remote_ratio\t|Общий объём работы, выполняемой удалённо: <br/> 0 — удалённой работы нет (менее 20 %); <br/> 50 — частично удалённая работа;<br/> 100 — полностью удалённая работа (более 80 %).|\n",
    "|company_location\t|Страна главного офиса работодателя или филиала по контракту в виде кода страны ISO 3166.|\n",
    "|company_size\t|Среднее количество людей, работавших в компании в течение года:<br/>S — менее 50 сотрудников (небольшая компания);<br/>M — от 50 до 250 сотрудников (средняя компания);<br/> L — более 250 сотрудников (крупная компания).|"
   ]
  },
  {
   "cell_type": "markdown",
   "metadata": {},
   "source": [
    "Источник датасета: [“Data Science Job Salaries” (kaggle.com)](https://www.kaggle.com/datasets/ruchi798/data-science-job-salaries)"
   ]
  },
  {
   "cell_type": "code",
   "execution_count": 31,
   "metadata": {},
   "outputs": [],
   "source": [
    "import warnings \n",
    "warnings.filterwarnings('ignore')"
   ]
  },
  {
   "cell_type": "markdown",
   "metadata": {},
   "source": [
    "## <center> Загрузка и обработка данных"
   ]
  },
  {
   "cell_type": "code",
   "execution_count": 1,
   "metadata": {},
   "outputs": [],
   "source": [
    "# загружаем необходимые библиотеки\n",
    "import pandas as pd\n",
    "import numpy as np\n",
    "\n",
    "from scipy import stats\n",
    "import statsmodels.api as sm\n",
    "from statsmodels import stats as sms\n",
    "\n",
    "import matplotlib.pyplot as plt\n",
    "import seaborn as sns\n",
    "\n",
    "# делаем визуальную настройку графиков\n",
    "sns.set_theme(\"notebook\") \n",
    "sns.set_palette(\"Set2\") "
   ]
  },
  {
   "cell_type": "code",
   "execution_count": 2,
   "metadata": {},
   "outputs": [
    {
     "data": {
      "text/html": [
       "<div>\n",
       "<style scoped>\n",
       "    .dataframe tbody tr th:only-of-type {\n",
       "        vertical-align: middle;\n",
       "    }\n",
       "\n",
       "    .dataframe tbody tr th {\n",
       "        vertical-align: top;\n",
       "    }\n",
       "\n",
       "    .dataframe thead th {\n",
       "        text-align: right;\n",
       "    }\n",
       "</style>\n",
       "<table border=\"1\" class=\"dataframe\">\n",
       "  <thead>\n",
       "    <tr style=\"text-align: right;\">\n",
       "      <th></th>\n",
       "      <th>work_year</th>\n",
       "      <th>experience_level</th>\n",
       "      <th>employment_type</th>\n",
       "      <th>job_title</th>\n",
       "      <th>salary</th>\n",
       "      <th>salary_currency</th>\n",
       "      <th>salary_in_usd</th>\n",
       "      <th>employee_residence</th>\n",
       "      <th>remote_ratio</th>\n",
       "      <th>company_location</th>\n",
       "      <th>company_size</th>\n",
       "    </tr>\n",
       "  </thead>\n",
       "  <tbody>\n",
       "    <tr>\n",
       "      <th>0</th>\n",
       "      <td>2020</td>\n",
       "      <td>MI</td>\n",
       "      <td>FT</td>\n",
       "      <td>Data Scientist</td>\n",
       "      <td>70000</td>\n",
       "      <td>EUR</td>\n",
       "      <td>79833</td>\n",
       "      <td>DE</td>\n",
       "      <td>0</td>\n",
       "      <td>DE</td>\n",
       "      <td>L</td>\n",
       "    </tr>\n",
       "    <tr>\n",
       "      <th>1</th>\n",
       "      <td>2020</td>\n",
       "      <td>SE</td>\n",
       "      <td>FT</td>\n",
       "      <td>Machine Learning Scientist</td>\n",
       "      <td>260000</td>\n",
       "      <td>USD</td>\n",
       "      <td>260000</td>\n",
       "      <td>JP</td>\n",
       "      <td>0</td>\n",
       "      <td>JP</td>\n",
       "      <td>S</td>\n",
       "    </tr>\n",
       "    <tr>\n",
       "      <th>2</th>\n",
       "      <td>2020</td>\n",
       "      <td>SE</td>\n",
       "      <td>FT</td>\n",
       "      <td>Big Data Engineer</td>\n",
       "      <td>85000</td>\n",
       "      <td>GBP</td>\n",
       "      <td>109024</td>\n",
       "      <td>GB</td>\n",
       "      <td>50</td>\n",
       "      <td>GB</td>\n",
       "      <td>M</td>\n",
       "    </tr>\n",
       "    <tr>\n",
       "      <th>3</th>\n",
       "      <td>2020</td>\n",
       "      <td>MI</td>\n",
       "      <td>FT</td>\n",
       "      <td>Product Data Analyst</td>\n",
       "      <td>20000</td>\n",
       "      <td>USD</td>\n",
       "      <td>20000</td>\n",
       "      <td>HN</td>\n",
       "      <td>0</td>\n",
       "      <td>HN</td>\n",
       "      <td>S</td>\n",
       "    </tr>\n",
       "    <tr>\n",
       "      <th>4</th>\n",
       "      <td>2020</td>\n",
       "      <td>SE</td>\n",
       "      <td>FT</td>\n",
       "      <td>Machine Learning Engineer</td>\n",
       "      <td>150000</td>\n",
       "      <td>USD</td>\n",
       "      <td>150000</td>\n",
       "      <td>US</td>\n",
       "      <td>50</td>\n",
       "      <td>US</td>\n",
       "      <td>L</td>\n",
       "    </tr>\n",
       "  </tbody>\n",
       "</table>\n",
       "</div>"
      ],
      "text/plain": [
       "   work_year experience_level employment_type                   job_title  \\\n",
       "0       2020               MI              FT              Data Scientist   \n",
       "1       2020               SE              FT  Machine Learning Scientist   \n",
       "2       2020               SE              FT           Big Data Engineer   \n",
       "3       2020               MI              FT        Product Data Analyst   \n",
       "4       2020               SE              FT   Machine Learning Engineer   \n",
       "\n",
       "   salary salary_currency  salary_in_usd employee_residence  remote_ratio  \\\n",
       "0   70000             EUR          79833                 DE             0   \n",
       "1  260000             USD         260000                 JP             0   \n",
       "2   85000             GBP         109024                 GB            50   \n",
       "3   20000             USD          20000                 HN             0   \n",
       "4  150000             USD         150000                 US            50   \n",
       "\n",
       "  company_location company_size  \n",
       "0               DE            L  \n",
       "1               JP            S  \n",
       "2               GB            M  \n",
       "3               HN            S  \n",
       "4               US            L  "
      ]
     },
     "execution_count": 2,
     "metadata": {},
     "output_type": "execute_result"
    }
   ],
   "source": [
    "# загружаем датасет\n",
    "data = pd.read_csv('data/ds_salaries.csv')\n",
    "data.drop('Unnamed: 0',axis=1,inplace=True)\n",
    "data.head()"
   ]
  },
  {
   "cell_type": "code",
   "execution_count": 3,
   "metadata": {},
   "outputs": [],
   "source": [
    "#признак зарплаты будем использовать salary_in_usd, тк он является целым числом(int64) и един для всех\n",
    "#удаляем неинформативные признаки\n",
    "data.drop(['salary','salary_currency'],axis=1,inplace=True)"
   ]
  },
  {
   "cell_type": "code",
   "execution_count": 4,
   "metadata": {},
   "outputs": [
    {
     "name": "stdout",
     "output_type": "stream",
     "text": [
      "<class 'pandas.core.frame.DataFrame'>\n",
      "RangeIndex: 607 entries, 0 to 606\n",
      "Data columns (total 9 columns):\n",
      " #   Column              Non-Null Count  Dtype \n",
      "---  ------              --------------  ----- \n",
      " 0   work_year           607 non-null    int64 \n",
      " 1   experience_level    607 non-null    object\n",
      " 2   employment_type     607 non-null    object\n",
      " 3   job_title           607 non-null    object\n",
      " 4   salary_in_usd       607 non-null    int64 \n",
      " 5   employee_residence  607 non-null    object\n",
      " 6   remote_ratio        607 non-null    int64 \n",
      " 7   company_location    607 non-null    object\n",
      " 8   company_size        607 non-null    object\n",
      "dtypes: int64(3), object(6)\n",
      "memory usage: 42.8+ KB\n"
     ]
    }
   ],
   "source": [
    "data.info()"
   ]
  },
  {
   "cell_type": "markdown",
   "metadata": {},
   "source": [
    "В датасете 607 записей (без пропущенных значений)."
   ]
  },
  {
   "cell_type": "markdown",
   "metadata": {},
   "source": [
    "1. Проверим датасет на наличие пропусков и дубликатов."
   ]
  },
  {
   "cell_type": "code",
   "execution_count": 5,
   "metadata": {},
   "outputs": [
    {
     "name": "stdout",
     "output_type": "stream",
     "text": [
      "Количество дубликатов: 42\n",
      "Размер таблицы после удаления дубликатов: (565, 9)\n"
     ]
    }
   ],
   "source": [
    "print('Количество дубликатов: {}'.format(data[data.duplicated()].shape[0]))\n",
    "\n",
    "# Удаляем дубликаты:\n",
    "data = data.drop_duplicates()\n",
    "print('Размер таблицы после удаления дубликатов: {}'.format(data.shape))"
   ]
  },
  {
   "cell_type": "code",
   "execution_count": 7,
   "metadata": {},
   "outputs": [
    {
     "data": {
      "text/plain": [
       "remote_ratio          0.21\n",
       "work_year             0.00\n",
       "experience_level      0.00\n",
       "employment_type       0.00\n",
       "job_title             0.00\n",
       "salary_in_usd         0.00\n",
       "employee_residence    0.00\n",
       "company_location      0.00\n",
       "company_size          0.00\n",
       "dtype: float64"
      ]
     },
     "execution_count": 7,
     "metadata": {},
     "output_type": "execute_result"
    }
   ],
   "source": [
    "data1 = data.copy()\n",
    "def nan_function(x):\n",
    "    return np.nan if x == 0 else x\n",
    "data1['company_location'] = data1['company_location'].apply(nan_function)\n",
    "data1['company_size'] = data1['company_size'].apply(nan_function)\n",
    "data1['employee_residence'] = data1['employee_residence'].apply(nan_function)\n",
    "data1['experience_level'] = data1['experience_level'].apply(nan_function)\n",
    "data1['job_title'] = data1['job_title'].apply(nan_function)\n",
    "data1['remote_ratio'] = data1['remote_ratio'].apply(nan_function)\n",
    "data1['salary_in_usd'] = data1['salary_in_usd'].apply(nan_function)\n",
    "data1['work_year'] = data1['work_year'].apply(nan_function)\n",
    "data1.isnull().mean().round(2).sort_values(ascending=False)"
   ]
  },
  {
   "cell_type": "markdown",
   "metadata": {},
   "source": [
    "Удалим количество полученных дубликатов. Размер таблицы после удаления дубликатов: (565, 9). При проверке пропущенных данных большого числа пропусков не выявлено, оставляем как есть."
   ]
  },
  {
   "cell_type": "markdown",
   "metadata": {},
   "source": [
    "2. Определеляем в данных неинформативные признаки, которые не будут участвовать в исследовании."
   ]
  },
  {
   "cell_type": "code",
   "execution_count": 8,
   "metadata": {},
   "outputs": [
    {
     "name": "stdout",
     "output_type": "stream",
     "text": [
      "employment_type: 96.64% одинаковых значений\n"
     ]
    }
   ],
   "source": [
    "#список неинформативных признаков\n",
    "low_information_cols = [] \n",
    "\n",
    "#цикл по всем столбцам\n",
    "for col in data.columns:\n",
    "    #наибольшая относительная частота в признаке\n",
    "    top_freq = data[col].value_counts(normalize=True).max()\n",
    "    #доля уникальных значений от размера признака\n",
    "    nunique_ratio = data[col].nunique() / data[col].count()\n",
    "    # сравниваем наибольшую частоту с порогом\n",
    "    if top_freq > 0.95:\n",
    "        low_information_cols.append(col)\n",
    "        print(f'{col}: {round(top_freq*100, 2)}% одинаковых значений')\n",
    "    # сравниваем долю уникальных значений с порогом\n",
    "    if nunique_ratio > 0.95:\n",
    "        low_information_cols.append(col)\n",
    "        print(f'{col}: {round(nunique_ratio*100, 2)}% уникальных значений')"
   ]
  },
  {
   "cell_type": "code",
   "execution_count": 9,
   "metadata": {},
   "outputs": [
    {
     "data": {
      "image/png": "[encoded data removed]",
      "text/plain": [
       "<Figure size 500x300 with 1 Axes>"
      ]
     },
     "metadata": {},
     "output_type": "display_data"
    }
   ],
   "source": [
    "data['employment_type'].hist(figsize=(5,3));"
   ]
  },
  {
   "cell_type": "markdown",
   "metadata": {},
   "source": [
    "Признак employment_type содержит в себе 96.64% одинаковых значений, как видно из диаграммы почти все значения это  FT — полный рабочий день. Признак является неинформативным, избавляемся от него."
   ]
  },
  {
   "cell_type": "code",
   "execution_count": 10,
   "metadata": {},
   "outputs": [],
   "source": [
    "#удаляем неинформативные признаки\n",
    "data.drop(low_information_cols ,axis=1,inplace=True)"
   ]
  },
  {
   "cell_type": "markdown",
   "metadata": {},
   "source": [
    "3. Классифицируем все признаки на числовые и категориальные"
   ]
  },
  {
   "cell_type": "code",
   "execution_count": 25,
   "metadata": {},
   "outputs": [
    {
     "name": "stdout",
     "output_type": "stream",
     "text": [
      "<class 'pandas.core.frame.DataFrame'>\n",
      "Index: 565 entries, 0 to 606\n",
      "Data columns (total 8 columns):\n",
      " #   Column              Non-Null Count  Dtype   \n",
      "---  ------              --------------  -----   \n",
      " 0   work_year           565 non-null    int64   \n",
      " 1   experience_level    565 non-null    category\n",
      " 2   job_title           565 non-null    category\n",
      " 3   salary_in_usd       565 non-null    int64   \n",
      " 4   employee_residence  565 non-null    category\n",
      " 5   remote_ratio        565 non-null    category\n",
      " 6   company_location    565 non-null    category\n",
      " 7   company_size        565 non-null    category\n",
      "dtypes: category(6), int64(2)\n",
      "memory usage: 24.4 KB\n"
     ]
    },
    {
     "data": {
      "text/plain": [
       "None"
      ]
     },
     "metadata": {},
     "output_type": "display_data"
    }
   ],
   "source": [
    "#Сделаем преобразование столбцов к типу данных category:\n",
    "\n",
    "cols_to_exclude = ['work_year', 'salary_in_usd'] # список столбцов, которые мы не берём во внимание\n",
    "max_unique_count = 60 # задаём максимальное число уникальных категорий\n",
    "for col in data.columns: # цикл по именам столбцов\n",
    "    if data[col].nunique() < max_unique_count and col not in cols_to_exclude: # проверяем условие\n",
    "        data[col] = data[col].astype('category') # преобразуем тип столбца\n",
    "display(data.info())"
   ]
  },
  {
   "cell_type": "markdown",
   "metadata": {},
   "source": [
    "Наш датасет имеет большое количество признаков типа \"object\", их можно перевести в формат категории и сохранить место в памяти компьютера, а также ускорить процесс работы."
   ]
  },
  {
   "cell_type": "markdown",
   "metadata": {},
   "source": [
    "4. Находим основные статистические характеристики для каждого из признаков."
   ]
  },
  {
   "cell_type": "code",
   "execution_count": 13,
   "metadata": {},
   "outputs": [
    {
     "data": {
      "text/html": [
       "<div>\n",
       "<style scoped>\n",
       "    .dataframe tbody tr th:only-of-type {\n",
       "        vertical-align: middle;\n",
       "    }\n",
       "\n",
       "    .dataframe tbody tr th {\n",
       "        vertical-align: top;\n",
       "    }\n",
       "\n",
       "    .dataframe thead th {\n",
       "        text-align: right;\n",
       "    }\n",
       "</style>\n",
       "<table border=\"1\" class=\"dataframe\">\n",
       "  <thead>\n",
       "    <tr style=\"text-align: right;\">\n",
       "      <th></th>\n",
       "      <th>work_year</th>\n",
       "      <th>salary_in_usd</th>\n",
       "    </tr>\n",
       "  </thead>\n",
       "  <tbody>\n",
       "    <tr>\n",
       "      <th>count</th>\n",
       "      <td>565.0</td>\n",
       "      <td>565.0</td>\n",
       "    </tr>\n",
       "    <tr>\n",
       "      <th>mean</th>\n",
       "      <td>2021.0</td>\n",
       "      <td>110610.0</td>\n",
       "    </tr>\n",
       "    <tr>\n",
       "      <th>std</th>\n",
       "      <td>1.0</td>\n",
       "      <td>72281.0</td>\n",
       "    </tr>\n",
       "    <tr>\n",
       "      <th>min</th>\n",
       "      <td>2020.0</td>\n",
       "      <td>2859.0</td>\n",
       "    </tr>\n",
       "    <tr>\n",
       "      <th>25%</th>\n",
       "      <td>2021.0</td>\n",
       "      <td>60757.0</td>\n",
       "    </tr>\n",
       "    <tr>\n",
       "      <th>50%</th>\n",
       "      <td>2021.0</td>\n",
       "      <td>100000.0</td>\n",
       "    </tr>\n",
       "    <tr>\n",
       "      <th>75%</th>\n",
       "      <td>2022.0</td>\n",
       "      <td>150000.0</td>\n",
       "    </tr>\n",
       "    <tr>\n",
       "      <th>max</th>\n",
       "      <td>2022.0</td>\n",
       "      <td>600000.0</td>\n",
       "    </tr>\n",
       "  </tbody>\n",
       "</table>\n",
       "</div>"
      ],
      "text/plain": [
       "       work_year  salary_in_usd\n",
       "count      565.0          565.0\n",
       "mean      2021.0       110610.0\n",
       "std          1.0        72281.0\n",
       "min       2020.0         2859.0\n",
       "25%       2021.0        60757.0\n",
       "50%       2021.0       100000.0\n",
       "75%       2022.0       150000.0\n",
       "max       2022.0       600000.0"
      ]
     },
     "execution_count": 13,
     "metadata": {},
     "output_type": "execute_result"
    }
   ],
   "source": [
    "round(data.describe())"
   ]
  },
  {
   "cell_type": "code",
   "execution_count": 26,
   "metadata": {},
   "outputs": [
    {
     "data": {
      "text/html": [
       "<div>\n",
       "<style scoped>\n",
       "    .dataframe tbody tr th:only-of-type {\n",
       "        vertical-align: middle;\n",
       "    }\n",
       "\n",
       "    .dataframe tbody tr th {\n",
       "        vertical-align: top;\n",
       "    }\n",
       "\n",
       "    .dataframe thead th {\n",
       "        text-align: right;\n",
       "    }\n",
       "</style>\n",
       "<table border=\"1\" class=\"dataframe\">\n",
       "  <thead>\n",
       "    <tr style=\"text-align: right;\">\n",
       "      <th></th>\n",
       "      <th>experience_level</th>\n",
       "      <th>job_title</th>\n",
       "      <th>employee_residence</th>\n",
       "      <th>remote_ratio</th>\n",
       "      <th>company_location</th>\n",
       "      <th>company_size</th>\n",
       "    </tr>\n",
       "  </thead>\n",
       "  <tbody>\n",
       "    <tr>\n",
       "      <th>count</th>\n",
       "      <td>565</td>\n",
       "      <td>565</td>\n",
       "      <td>565</td>\n",
       "      <td>565</td>\n",
       "      <td>565</td>\n",
       "      <td>565</td>\n",
       "    </tr>\n",
       "    <tr>\n",
       "      <th>unique</th>\n",
       "      <td>4</td>\n",
       "      <td>50</td>\n",
       "      <td>57</td>\n",
       "      <td>3</td>\n",
       "      <td>50</td>\n",
       "      <td>3</td>\n",
       "    </tr>\n",
       "    <tr>\n",
       "      <th>top</th>\n",
       "      <td>SE</td>\n",
       "      <td>Data Scientist</td>\n",
       "      <td>US</td>\n",
       "      <td>100</td>\n",
       "      <td>US</td>\n",
       "      <td>M</td>\n",
       "    </tr>\n",
       "    <tr>\n",
       "      <th>freq</th>\n",
       "      <td>243</td>\n",
       "      <td>130</td>\n",
       "      <td>295</td>\n",
       "      <td>346</td>\n",
       "      <td>318</td>\n",
       "      <td>290</td>\n",
       "    </tr>\n",
       "  </tbody>\n",
       "</table>\n",
       "</div>"
      ],
      "text/plain": [
       "       experience_level       job_title employee_residence  remote_ratio  \\\n",
       "count               565             565                565           565   \n",
       "unique                4              50                 57             3   \n",
       "top                  SE  Data Scientist                 US           100   \n",
       "freq                243             130                295           346   \n",
       "\n",
       "       company_location company_size  \n",
       "count               565          565  \n",
       "unique               50            3  \n",
       "top                  US            M  \n",
       "freq                318          290  "
      ]
     },
     "execution_count": 26,
     "metadata": {},
     "output_type": "execute_result"
    }
   ],
   "source": [
    "data.describe(include='category')"
   ]
  },
  {
   "cell_type": "markdown",
   "metadata": {},
   "source": [
    "Мы прочитали датасет, избавились от дубликатов и неинформативных признаков. Классифицировали все признаки на числовые и категориальные. Нашли основные статистики признаков."
   ]
  },
  {
   "cell_type": "markdown",
   "metadata": {},
   "source": [
    "## <center> Разведывательный анализ данных"
   ]
  },
  {
   "cell_type": "markdown",
   "metadata": {},
   "source": [
    "### <center>  Визуальный анализ данных"
   ]
  },
  {
   "cell_type": "markdown",
   "metadata": {},
   "source": [
    "Построим распеределение всех возможных признаков быстро простой визуализацией"
   ]
  },
  {
   "cell_type": "markdown",
   "metadata": {},
   "source": [
    "Для чиловых:"
   ]
  },
  {
   "cell_type": "code",
   "execution_count": 103,
   "metadata": {},
   "outputs": [
    {
     "data": {
      "image/png": "[encoded data removed]",
      "text/plain": [
       "<Figure size 500x200 with 2 Axes>"
      ]
     },
     "metadata": {},
     "output_type": "display_data"
    }
   ],
   "source": [
    "data.hist(figsize=(5,2));"
   ]
  },
  {
   "cell_type": "markdown",
   "metadata": {},
   "source": [
    "Для категориальных:"
   ]
  },
  {
   "cell_type": "code",
   "execution_count": 18,
   "metadata": {},
   "outputs": [
    {
     "data": {
      "image/png": "[encoded data removed]",
      "text/plain": [
       "<Figure size 1500x200 with 1 Axes>"
      ]
     },
     "metadata": {},
     "output_type": "display_data"
    }
   ],
   "source": [
    "data['experience_level'].value_counts().plot(kind='bar', xlabel='Опыт работы', rot=0,figsize=(15,2));"
   ]
  },
  {
   "cell_type": "code",
   "execution_count": 22,
   "metadata": {},
   "outputs": [
    {
     "data": {
      "image/png": "[encoded data removed]",
      "text/plain": [
       "<Figure size 1500x200 with 1 Axes>"
      ]
     },
     "metadata": {},
     "output_type": "display_data"
    }
   ],
   "source": [
    "data['job_title'].value_counts().nlargest(10).plot(kind='bar', xlabel='Должность', rot=12,figsize=(15,2));"
   ]
  },
  {
   "cell_type": "code",
   "execution_count": 19,
   "metadata": {},
   "outputs": [
    {
     "data": {
      "image/png": "[encoded data removed]",
      "text/plain": [
       "<Figure size 1500x200 with 1 Axes>"
      ]
     },
     "metadata": {},
     "output_type": "display_data"
    }
   ],
   "source": [
    "data['company_location'].value_counts().nlargest(10).plot(kind='bar', xlabel='Страна главного офиса', rot=0,figsize=(15,2));"
   ]
  },
  {
   "cell_type": "code",
   "execution_count": 21,
   "metadata": {},
   "outputs": [
    {
     "data": {
      "image/png": "[encoded data removed]",
      "text/plain": [
       "<Figure size 1500x200 with 1 Axes>"
      ]
     },
     "metadata": {},
     "output_type": "display_data"
    }
   ],
   "source": [
    "data['employee_residence'].value_counts().nlargest(10).plot(kind='bar', xlabel='Страна проживания сотрудника', rot=0,figsize=(15,2));"
   ]
  },
  {
   "cell_type": "code",
   "execution_count": 23,
   "metadata": {},
   "outputs": [
    {
     "data": {
      "image/png": "[encoded data removed]",
      "text/plain": [
       "<Figure size 1500x200 with 1 Axes>"
      ]
     },
     "metadata": {},
     "output_type": "display_data"
    }
   ],
   "source": [
    "data['remote_ratio'].value_counts().nlargest(10).plot(kind='bar', xlabel='Общий объём работы', rot=0,figsize=(15,2));"
   ]
  },
  {
   "cell_type": "code",
   "execution_count": 24,
   "metadata": {},
   "outputs": [
    {
     "data": {
      "image/png": "[encoded data removed]",
      "text/plain": [
       "<Figure size 1500x200 with 1 Axes>"
      ]
     },
     "metadata": {},
     "output_type": "display_data"
    }
   ],
   "source": [
    "data['company_size'].value_counts().nlargest(10).plot(kind='bar', xlabel='Размер компании', rot=0,figsize=(15,2));"
   ]
  },
  {
   "cell_type": "markdown",
   "metadata": {},
   "source": [
    "Сделан базовый анализ для каждого признака, участвующего в исследовании:\n",
    "* для числовых признаков построены гистограммы, иллюстрирующие распределения;\n",
    "* для категориальных признаков определено количество записей для каждой категории и построены соответствующие визуализации."
   ]
  },
  {
   "cell_type": "markdown",
   "metadata": {},
   "source": [
    "## <center> Влияние каждого из признаков, участвующих в исследовании, на зарплату по всем наименованиям Data Scientist или на зарплату по всем должностям."
   ]
  },
  {
   "cell_type": "code",
   "execution_count": 27,
   "metadata": {},
   "outputs": [],
   "source": [
    "#создаем датафрейм \n",
    "df_ds=data[data['job_title']=='Data Scientist']"
   ]
  },
  {
   "cell_type": "markdown",
   "metadata": {},
   "source": [
    "### Распределение зарплат у Data Scientist"
   ]
  },
  {
   "cell_type": "code",
   "execution_count": 29,
   "metadata": {},
   "outputs": [
    {
     "data": {
      "image/png": "[encoded data removed]",
      "text/plain": [
       "<Figure size 1500x400 with 2 Axes>"
      ]
     },
     "metadata": {},
     "output_type": "display_data"
    }
   ],
   "source": [
    "fig, axes = plt.subplots(1, 2, figsize=(15, 4))\n",
    "\n",
    "sns.histplot(df_ds['salary_in_usd'], kde=True, ax=axes[0])\n",
    "axes[0].set(xlabel='Размер зарплат', ylabel='Частота')\n",
    "axes[0].set_title('Распределение зарплат у DS')\n",
    "axes[0].axvline(df_ds['salary_in_usd'].mean(), color='black', linestyle='--', linewidth=0.8)\n",
    "\n",
    "sns.boxplot(df_ds['salary_in_usd'], ax=axes[1], orient='h', medianprops={\"color\": \"black\", \"linestyle\": '--'})\n",
    "axes[1].set(ylabel='Размер зарплат')\n",
    "axes[1].set_title('Распределение зарплат у DS')\n",
    "\n",
    "plt.show()"
   ]
  },
  {
   "cell_type": "code",
   "execution_count": 9,
   "metadata": {},
   "outputs": [
    {
     "data": {
      "text/html": [
       "<div>\n",
       "<style scoped>\n",
       "    .dataframe tbody tr th:only-of-type {\n",
       "        vertical-align: middle;\n",
       "    }\n",
       "\n",
       "    .dataframe tbody tr th {\n",
       "        vertical-align: top;\n",
       "    }\n",
       "\n",
       "    .dataframe thead th {\n",
       "        text-align: right;\n",
       "    }\n",
       "</style>\n",
       "<table border=\"1\" class=\"dataframe\">\n",
       "  <thead>\n",
       "    <tr style=\"text-align: right;\">\n",
       "      <th></th>\n",
       "      <th>Размер зарплат</th>\n",
       "    </tr>\n",
       "  </thead>\n",
       "  <tbody>\n",
       "    <tr>\n",
       "      <th>count</th>\n",
       "      <td>130.00</td>\n",
       "    </tr>\n",
       "    <tr>\n",
       "      <th>mean</th>\n",
       "      <td>103336.35</td>\n",
       "    </tr>\n",
       "    <tr>\n",
       "      <th>std</th>\n",
       "      <td>63967.56</td>\n",
       "    </tr>\n",
       "    <tr>\n",
       "      <th>min</th>\n",
       "      <td>2859.00</td>\n",
       "    </tr>\n",
       "    <tr>\n",
       "      <th>25%</th>\n",
       "      <td>50330.25</td>\n",
       "    </tr>\n",
       "    <tr>\n",
       "      <th>50%</th>\n",
       "      <td>100000.00</td>\n",
       "    </tr>\n",
       "    <tr>\n",
       "      <th>75%</th>\n",
       "      <td>140400.00</td>\n",
       "    </tr>\n",
       "    <tr>\n",
       "      <th>max</th>\n",
       "      <td>412000.00</td>\n",
       "    </tr>\n",
       "  </tbody>\n",
       "</table>\n",
       "</div>"
      ],
      "text/plain": [
       "       Размер зарплат\n",
       "count          130.00\n",
       "mean        103336.35\n",
       "std          63967.56\n",
       "min           2859.00\n",
       "25%          50330.25\n",
       "50%         100000.00\n",
       "75%         140400.00\n",
       "max         412000.00"
      ]
     },
     "execution_count": 9,
     "metadata": {},
     "output_type": "execute_result"
    }
   ],
   "source": [
    "data_agg = df_ds['salary_in_usd'].describe().round(2).to_frame()\n",
    "data_agg.columns = ['Размер зарплат у DS']\n",
    "data_agg"
   ]
  },
  {
   "cell_type": "markdown",
   "metadata": {},
   "source": [
    "Распределение правосторонее. Распределение зарплат у Data Scientist смещено вправо: большинство сотрудников зарабатывают от 50 до 100 тысяч долларов, но есть и такие сотрудники, которые зарабатывают гораздо больше."
   ]
  },
  {
   "cell_type": "markdown",
   "metadata": {},
   "source": [
    "### Распределение зарплат у DS по странe проживания сотрудника"
   ]
  },
  {
   "cell_type": "code",
   "execution_count": 33,
   "metadata": {},
   "outputs": [
    {
     "data": {
      "image/png": "[encoded data removed]",
      "text/plain": [
       "<Figure size 640x480 with 1 Axes>"
      ]
     },
     "metadata": {},
     "output_type": "display_data"
    }
   ],
   "source": [
    "pop_residence = df_ds['employee_residence'].value_counts().nlargest(6).index\n",
    "df_ds['employee_residence'] = df_ds['employee_residence'].apply(lambda x: x if x in pop_residence else 'other')\n",
    "df_ds['employee_residence'] = df_ds['employee_residence'].replace(\n",
    "    ['US','GB','IN','CA','DE','FR'],['USA','Great Britain','India','Canada','Germany','France'])\n",
    "\n",
    "ax = sns.boxplot(df_ds, x='salary_in_usd', y='employee_residence', orient='h', medianprops={\"color\": \"red\", \"linestyle\": '--'})\n",
    "ax.set(xlabel='Размер зарплат', ylabel='Страна')\n",
    "plt.title('Распределение зарплат у DS по странe проживания сотрудника')\n",
    "plt.show()"
   ]
  },
  {
   "cell_type": "code",
   "execution_count": 34,
   "metadata": {},
   "outputs": [
    {
     "name": "stdout",
     "output_type": "stream",
     "text": [
      "Распределение зарплат у DS по странe проживания сотрудника\n"
     ]
    },
    {
     "data": {
      "text/html": [
       "<div>\n",
       "<style scoped>\n",
       "    .dataframe tbody tr th:only-of-type {\n",
       "        vertical-align: middle;\n",
       "    }\n",
       "\n",
       "    .dataframe tbody tr th {\n",
       "        vertical-align: top;\n",
       "    }\n",
       "\n",
       "    .dataframe thead th {\n",
       "        text-align: right;\n",
       "    }\n",
       "</style>\n",
       "<table border=\"1\" class=\"dataframe\">\n",
       "  <thead>\n",
       "    <tr style=\"text-align: right;\">\n",
       "      <th></th>\n",
       "      <th>count</th>\n",
       "      <th>mean</th>\n",
       "      <th>std</th>\n",
       "      <th>min</th>\n",
       "      <th>25%</th>\n",
       "      <th>50%</th>\n",
       "      <th>75%</th>\n",
       "      <th>max</th>\n",
       "    </tr>\n",
       "    <tr>\n",
       "      <th>employee_residence</th>\n",
       "      <th></th>\n",
       "      <th></th>\n",
       "      <th></th>\n",
       "      <th></th>\n",
       "      <th></th>\n",
       "      <th></th>\n",
       "      <th></th>\n",
       "      <th></th>\n",
       "    </tr>\n",
       "  </thead>\n",
       "  <tbody>\n",
       "    <tr>\n",
       "      <th>USA</th>\n",
       "      <td>66.0</td>\n",
       "      <td>147082.58</td>\n",
       "      <td>54499.36</td>\n",
       "      <td>58000.0</td>\n",
       "      <td>110500.00</td>\n",
       "      <td>140200.0</td>\n",
       "      <td>169250.00</td>\n",
       "      <td>412000.0</td>\n",
       "    </tr>\n",
       "    <tr>\n",
       "      <th>Great Britain</th>\n",
       "      <td>11.0</td>\n",
       "      <td>88177.36</td>\n",
       "      <td>41393.50</td>\n",
       "      <td>39263.0</td>\n",
       "      <td>60847.00</td>\n",
       "      <td>76958.0</td>\n",
       "      <td>110808.00</td>\n",
       "      <td>183228.0</td>\n",
       "    </tr>\n",
       "    <tr>\n",
       "      <th>Germany</th>\n",
       "      <td>6.0</td>\n",
       "      <td>72113.67</td>\n",
       "      <td>16752.86</td>\n",
       "      <td>49268.0</td>\n",
       "      <td>61781.75</td>\n",
       "      <td>71279.5</td>\n",
       "      <td>86448.75</td>\n",
       "      <td>90734.0</td>\n",
       "    </tr>\n",
       "    <tr>\n",
       "      <th>other</th>\n",
       "      <td>30.0</td>\n",
       "      <td>56525.77</td>\n",
       "      <td>34852.17</td>\n",
       "      <td>2859.0</td>\n",
       "      <td>35626.25</td>\n",
       "      <td>47404.5</td>\n",
       "      <td>87479.25</td>\n",
       "      <td>122346.0</td>\n",
       "    </tr>\n",
       "    <tr>\n",
       "      <th>France</th>\n",
       "      <td>8.0</td>\n",
       "      <td>51665.62</td>\n",
       "      <td>13412.16</td>\n",
       "      <td>36643.0</td>\n",
       "      <td>41626.75</td>\n",
       "      <td>50483.5</td>\n",
       "      <td>55575.50</td>\n",
       "      <td>77684.0</td>\n",
       "    </tr>\n",
       "    <tr>\n",
       "      <th>India</th>\n",
       "      <td>9.0</td>\n",
       "      <td>23838.33</td>\n",
       "      <td>11758.72</td>\n",
       "      <td>5679.0</td>\n",
       "      <td>16904.00</td>\n",
       "      <td>28399.0</td>\n",
       "      <td>31615.00</td>\n",
       "      <td>40481.0</td>\n",
       "    </tr>\n",
       "  </tbody>\n",
       "</table>\n",
       "</div>"
      ],
      "text/plain": [
       "                    count       mean       std      min        25%       50%  \\\n",
       "employee_residence                                                             \n",
       "USA                  66.0  147082.58  54499.36  58000.0  110500.00  140200.0   \n",
       "Great Britain        11.0   88177.36  41393.50  39263.0   60847.00   76958.0   \n",
       "Germany               6.0   72113.67  16752.86  49268.0   61781.75   71279.5   \n",
       "other                30.0   56525.77  34852.17   2859.0   35626.25   47404.5   \n",
       "France                8.0   51665.62  13412.16  36643.0   41626.75   50483.5   \n",
       "India                 9.0   23838.33  11758.72   5679.0   16904.00   28399.0   \n",
       "\n",
       "                          75%       max  \n",
       "employee_residence                       \n",
       "USA                 169250.00  412000.0  \n",
       "Great Britain       110808.00  183228.0  \n",
       "Germany              86448.75   90734.0  \n",
       "other                87479.25  122346.0  \n",
       "France               55575.50   77684.0  \n",
       "India                31615.00   40481.0  "
      ]
     },
     "execution_count": 34,
     "metadata": {},
     "output_type": "execute_result"
    }
   ],
   "source": [
    "data_agg = df_ds.groupby('employee_residence')['salary_in_usd'].describe().round(2).sort_values(by='mean',ascending=False)\n",
    "print('Распределение зарплат у DS по странe проживания сотрудника')\n",
    "data_agg"
   ]
  },
  {
   "cell_type": "markdown",
   "metadata": {},
   "source": [
    "Распределения зп различны в зависимости от того, в какой стране проживает сотрудник. Самая высокооплачиваемая страна это США.Чтобы определить, являются ли эти различия статистически значимыми, в следующем разделе мы проведём статистические тесты."
   ]
  },
  {
   "cell_type": "markdown",
   "metadata": {},
   "source": [
    "### Распределение зарплат у DS по году"
   ]
  },
  {
   "cell_type": "code",
   "execution_count": 35,
   "metadata": {},
   "outputs": [
    {
     "data": {
      "image/png": "[encoded data removed]",
      "text/plain": [
       "<Figure size 640x480 with 1 Axes>"
      ]
     },
     "metadata": {},
     "output_type": "display_data"
    }
   ],
   "source": [
    "ax = sns.boxplot(df_ds, x='salary_in_usd', y='work_year', orient='h', medianprops={\"color\": \"red\", \"linestyle\": '--'})\n",
    "ax.set(xlabel='Размер зарплат', ylabel='Год')\n",
    "plt.title('Распределение зарплат у DS по году')\n",
    "plt.show()"
   ]
  },
  {
   "cell_type": "code",
   "execution_count": 19,
   "metadata": {},
   "outputs": [
    {
     "name": "stdout",
     "output_type": "stream",
     "text": [
      "Распределение зарплат по году\n"
     ]
    },
    {
     "data": {
      "text/html": [
       "<div>\n",
       "<style scoped>\n",
       "    .dataframe tbody tr th:only-of-type {\n",
       "        vertical-align: middle;\n",
       "    }\n",
       "\n",
       "    .dataframe tbody tr th {\n",
       "        vertical-align: top;\n",
       "    }\n",
       "\n",
       "    .dataframe thead th {\n",
       "        text-align: right;\n",
       "    }\n",
       "</style>\n",
       "<table border=\"1\" class=\"dataframe\">\n",
       "  <thead>\n",
       "    <tr style=\"text-align: right;\">\n",
       "      <th></th>\n",
       "      <th>count</th>\n",
       "      <th>mean</th>\n",
       "      <th>std</th>\n",
       "      <th>min</th>\n",
       "      <th>25%</th>\n",
       "      <th>50%</th>\n",
       "      <th>75%</th>\n",
       "      <th>max</th>\n",
       "    </tr>\n",
       "    <tr>\n",
       "      <th>work_year</th>\n",
       "      <th></th>\n",
       "      <th></th>\n",
       "      <th></th>\n",
       "      <th></th>\n",
       "      <th></th>\n",
       "      <th></th>\n",
       "      <th></th>\n",
       "      <th></th>\n",
       "    </tr>\n",
       "  </thead>\n",
       "  <tbody>\n",
       "    <tr>\n",
       "      <th>2020</th>\n",
       "      <td>21.0</td>\n",
       "      <td>85970.52</td>\n",
       "      <td>81436.65</td>\n",
       "      <td>21669.0</td>\n",
       "      <td>42197.00</td>\n",
       "      <td>62726.0</td>\n",
       "      <td>105000.00</td>\n",
       "      <td>412000.0</td>\n",
       "    </tr>\n",
       "    <tr>\n",
       "      <th>2021</th>\n",
       "      <td>44.0</td>\n",
       "      <td>70215.77</td>\n",
       "      <td>45843.82</td>\n",
       "      <td>2859.0</td>\n",
       "      <td>32793.75</td>\n",
       "      <td>67233.5</td>\n",
       "      <td>100922.75</td>\n",
       "      <td>165000.0</td>\n",
       "    </tr>\n",
       "    <tr>\n",
       "      <th>2022</th>\n",
       "      <td>65.0</td>\n",
       "      <td>131366.94</td>\n",
       "      <td>55785.24</td>\n",
       "      <td>18442.0</td>\n",
       "      <td>95550.00</td>\n",
       "      <td>135000.0</td>\n",
       "      <td>170000.00</td>\n",
       "      <td>260000.0</td>\n",
       "    </tr>\n",
       "  </tbody>\n",
       "</table>\n",
       "</div>"
      ],
      "text/plain": [
       "           count       mean       std      min       25%       50%        75%  \\\n",
       "work_year                                                                       \n",
       "2020        21.0   85970.52  81436.65  21669.0  42197.00   62726.0  105000.00   \n",
       "2021        44.0   70215.77  45843.82   2859.0  32793.75   67233.5  100922.75   \n",
       "2022        65.0  131366.94  55785.24  18442.0  95550.00  135000.0  170000.00   \n",
       "\n",
       "                max  \n",
       "work_year            \n",
       "2020       412000.0  \n",
       "2021       165000.0  \n",
       "2022       260000.0  "
      ]
     },
     "execution_count": 19,
     "metadata": {},
     "output_type": "execute_result"
    }
   ],
   "source": [
    "data_agg = df_ds.groupby('work_year')['salary_in_usd'].describe().round(2)\n",
    "print('Распределение зарплат у DS по году')\n",
    "data_agg"
   ]
  },
  {
   "cell_type": "markdown",
   "metadata": {},
   "source": [
    "Наблюдается ежегодный рост зарплат у специалистов Data Scientis. Чтобы определить, являются ли эти различия статистически значимыми, в следующем разделе мы проведём статистические тесты."
   ]
  },
  {
   "cell_type": "markdown",
   "metadata": {},
   "source": [
    "### Распределение зарплат по должности"
   ]
  },
  {
   "cell_type": "code",
   "execution_count": 36,
   "metadata": {},
   "outputs": [
    {
     "data": {
      "image/png": "[encoded data removed]",
      "text/plain": [
       "<Figure size 640x480 with 1 Axes>"
      ]
     },
     "metadata": {},
     "output_type": "display_data"
    }
   ],
   "source": [
    "pop_job = data['job_title'].value_counts().nlargest(10).index\n",
    "data['job_title'] = data['job_title'].apply(lambda x: x if x in pop_job else 'other')\n",
    "\n",
    "ax = sns.boxplot(data, x='salary_in_usd', y='job_title', orient='h', medianprops={\"color\": \"red\", \"linestyle\": '--'})\n",
    "ax.set(xlabel='Размер зарплат', ylabel='Должность')\n",
    "plt.title('Распределение зарплат по должности')\n",
    "plt.show()"
   ]
  },
  {
   "cell_type": "code",
   "execution_count": 31,
   "metadata": {},
   "outputs": [
    {
     "name": "stdout",
     "output_type": "stream",
     "text": [
      "Распределение зарплат по должности\n"
     ]
    },
    {
     "data": {
      "text/html": [
       "<div>\n",
       "<style scoped>\n",
       "    .dataframe tbody tr th:only-of-type {\n",
       "        vertical-align: middle;\n",
       "    }\n",
       "\n",
       "    .dataframe tbody tr th {\n",
       "        vertical-align: top;\n",
       "    }\n",
       "\n",
       "    .dataframe thead th {\n",
       "        text-align: right;\n",
       "    }\n",
       "</style>\n",
       "<table border=\"1\" class=\"dataframe\">\n",
       "  <thead>\n",
       "    <tr style=\"text-align: right;\">\n",
       "      <th></th>\n",
       "      <th>count</th>\n",
       "      <th>mean</th>\n",
       "      <th>std</th>\n",
       "      <th>min</th>\n",
       "      <th>25%</th>\n",
       "      <th>50%</th>\n",
       "      <th>75%</th>\n",
       "      <th>max</th>\n",
       "    </tr>\n",
       "    <tr>\n",
       "      <th>job_title</th>\n",
       "      <th></th>\n",
       "      <th></th>\n",
       "      <th></th>\n",
       "      <th></th>\n",
       "      <th></th>\n",
       "      <th></th>\n",
       "      <th></th>\n",
       "      <th></th>\n",
       "    </tr>\n",
       "  </thead>\n",
       "  <tbody>\n",
       "    <tr>\n",
       "      <th>Principal Data Scientist</th>\n",
       "      <td>7.0</td>\n",
       "      <td>215242.43</td>\n",
       "      <td>94705.04</td>\n",
       "      <td>148261.0</td>\n",
       "      <td>156837.00</td>\n",
       "      <td>173762.0</td>\n",
       "      <td>227500.0</td>\n",
       "      <td>416000.0</td>\n",
       "    </tr>\n",
       "    <tr>\n",
       "      <th>Data Architect</th>\n",
       "      <td>11.0</td>\n",
       "      <td>177873.91</td>\n",
       "      <td>45714.72</td>\n",
       "      <td>90700.0</td>\n",
       "      <td>148900.00</td>\n",
       "      <td>180000.0</td>\n",
       "      <td>200669.5</td>\n",
       "      <td>266400.0</td>\n",
       "    </tr>\n",
       "    <tr>\n",
       "      <th>Machine Learning Scientist</th>\n",
       "      <td>8.0</td>\n",
       "      <td>158412.50</td>\n",
       "      <td>79514.71</td>\n",
       "      <td>12000.0</td>\n",
       "      <td>118075.00</td>\n",
       "      <td>156500.0</td>\n",
       "      <td>225000.0</td>\n",
       "      <td>260000.0</td>\n",
       "    </tr>\n",
       "    <tr>\n",
       "      <th>Data Science Manager</th>\n",
       "      <td>12.0</td>\n",
       "      <td>158328.50</td>\n",
       "      <td>52589.18</td>\n",
       "      <td>54094.0</td>\n",
       "      <td>142285.25</td>\n",
       "      <td>155750.0</td>\n",
       "      <td>178050.0</td>\n",
       "      <td>241000.0</td>\n",
       "    </tr>\n",
       "    <tr>\n",
       "      <th>other</th>\n",
       "      <td>131.0</td>\n",
       "      <td>119526.11</td>\n",
       "      <td>94735.45</td>\n",
       "      <td>5409.0</td>\n",
       "      <td>58678.50</td>\n",
       "      <td>100000.0</td>\n",
       "      <td>158500.0</td>\n",
       "      <td>600000.0</td>\n",
       "    </tr>\n",
       "    <tr>\n",
       "      <th>Data Engineer</th>\n",
       "      <td>121.0</td>\n",
       "      <td>109750.03</td>\n",
       "      <td>58203.68</td>\n",
       "      <td>4000.0</td>\n",
       "      <td>66022.00</td>\n",
       "      <td>100800.0</td>\n",
       "      <td>150000.0</td>\n",
       "      <td>324000.0</td>\n",
       "    </tr>\n",
       "    <tr>\n",
       "      <th>Research Scientist</th>\n",
       "      <td>16.0</td>\n",
       "      <td>109019.50</td>\n",
       "      <td>98542.76</td>\n",
       "      <td>42000.0</td>\n",
       "      <td>62176.00</td>\n",
       "      <td>76263.5</td>\n",
       "      <td>105000.0</td>\n",
       "      <td>450000.0</td>\n",
       "    </tr>\n",
       "    <tr>\n",
       "      <th>Data Scientist</th>\n",
       "      <td>130.0</td>\n",
       "      <td>103336.35</td>\n",
       "      <td>63967.56</td>\n",
       "      <td>2859.0</td>\n",
       "      <td>50330.25</td>\n",
       "      <td>100000.0</td>\n",
       "      <td>140400.0</td>\n",
       "      <td>412000.0</td>\n",
       "    </tr>\n",
       "    <tr>\n",
       "      <th>Machine Learning Engineer</th>\n",
       "      <td>39.0</td>\n",
       "      <td>101165.13</td>\n",
       "      <td>62518.56</td>\n",
       "      <td>20000.0</td>\n",
       "      <td>49173.00</td>\n",
       "      <td>87425.0</td>\n",
       "      <td>131500.0</td>\n",
       "      <td>250000.0</td>\n",
       "    </tr>\n",
       "    <tr>\n",
       "      <th>Data Analyst</th>\n",
       "      <td>82.0</td>\n",
       "      <td>90089.60</td>\n",
       "      <td>40686.26</td>\n",
       "      <td>6072.0</td>\n",
       "      <td>60325.00</td>\n",
       "      <td>90000.0</td>\n",
       "      <td>116112.5</td>\n",
       "      <td>200000.0</td>\n",
       "    </tr>\n",
       "    <tr>\n",
       "      <th>Big Data Engineer</th>\n",
       "      <td>8.0</td>\n",
       "      <td>51974.00</td>\n",
       "      <td>42954.76</td>\n",
       "      <td>5882.0</td>\n",
       "      <td>17557.00</td>\n",
       "      <td>41305.5</td>\n",
       "      <td>79756.0</td>\n",
       "      <td>114047.0</td>\n",
       "    </tr>\n",
       "  </tbody>\n",
       "</table>\n",
       "</div>"
      ],
      "text/plain": [
       "                            count       mean       std       min        25%  \\\n",
       "job_title                                                                     \n",
       "Principal Data Scientist      7.0  215242.43  94705.04  148261.0  156837.00   \n",
       "Data Architect               11.0  177873.91  45714.72   90700.0  148900.00   \n",
       "Machine Learning Scientist    8.0  158412.50  79514.71   12000.0  118075.00   \n",
       "Data Science Manager         12.0  158328.50  52589.18   54094.0  142285.25   \n",
       "other                       131.0  119526.11  94735.45    5409.0   58678.50   \n",
       "Data Engineer               121.0  109750.03  58203.68    4000.0   66022.00   \n",
       "Research Scientist           16.0  109019.50  98542.76   42000.0   62176.00   \n",
       "Data Scientist              130.0  103336.35  63967.56    2859.0   50330.25   \n",
       "Machine Learning Engineer    39.0  101165.13  62518.56   20000.0   49173.00   \n",
       "Data Analyst                 82.0   90089.60  40686.26    6072.0   60325.00   \n",
       "Big Data Engineer             8.0   51974.00  42954.76    5882.0   17557.00   \n",
       "\n",
       "                                 50%       75%       max  \n",
       "job_title                                                 \n",
       "Principal Data Scientist    173762.0  227500.0  416000.0  \n",
       "Data Architect              180000.0  200669.5  266400.0  \n",
       "Machine Learning Scientist  156500.0  225000.0  260000.0  \n",
       "Data Science Manager        155750.0  178050.0  241000.0  \n",
       "other                       100000.0  158500.0  600000.0  \n",
       "Data Engineer               100800.0  150000.0  324000.0  \n",
       "Research Scientist           76263.5  105000.0  450000.0  \n",
       "Data Scientist              100000.0  140400.0  412000.0  \n",
       "Machine Learning Engineer    87425.0  131500.0  250000.0  \n",
       "Data Analyst                 90000.0  116112.5  200000.0  \n",
       "Big Data Engineer            41305.5   79756.0  114047.0  "
      ]
     },
     "execution_count": 31,
     "metadata": {},
     "output_type": "execute_result"
    }
   ],
   "source": [
    "data_agg = data.groupby('job_title')['salary_in_usd'].describe().round(2).sort_values(by='mean',ascending=False)\n",
    "print('Распределение зарплат по должности')\n",
    "data_agg"
   ]
  },
  {
   "cell_type": "markdown",
   "metadata": {},
   "source": [
    "Распределения зп различны для разных должностей. Чтобы определить, являются ли эти различия статистически значимыми, в следующем разделе мы проведём статистические тесты."
   ]
  },
  {
   "cell_type": "markdown",
   "metadata": {},
   "source": [
    "### Распределение зарплат у DS по размеру компании"
   ]
  },
  {
   "cell_type": "code",
   "execution_count": 37,
   "metadata": {},
   "outputs": [
    {
     "data": {
      "image/png": "[encoded data removed]",
      "text/plain": [
       "<Figure size 640x480 with 1 Axes>"
      ]
     },
     "metadata": {},
     "output_type": "display_data"
    }
   ],
   "source": [
    "ax = sns.boxplot(df_ds, x='salary_in_usd', y='company_size', orient='h', medianprops={\"color\": \"red\", \"linestyle\": '--'})\n",
    "ax.set(xlabel='Размер зарплат', ylabel='Размер компании')\n",
    "plt.title('Распределение зарплат у DS по размеру компании')\n",
    "plt.show()"
   ]
  },
  {
   "cell_type": "code",
   "execution_count": 23,
   "metadata": {},
   "outputs": [
    {
     "name": "stdout",
     "output_type": "stream",
     "text": [
      "Распределение зарплат у DS по размеру компании\n"
     ]
    },
    {
     "data": {
      "text/html": [
       "<div>\n",
       "<style scoped>\n",
       "    .dataframe tbody tr th:only-of-type {\n",
       "        vertical-align: middle;\n",
       "    }\n",
       "\n",
       "    .dataframe tbody tr th {\n",
       "        vertical-align: top;\n",
       "    }\n",
       "\n",
       "    .dataframe thead th {\n",
       "        text-align: right;\n",
       "    }\n",
       "</style>\n",
       "<table border=\"1\" class=\"dataframe\">\n",
       "  <thead>\n",
       "    <tr style=\"text-align: right;\">\n",
       "      <th></th>\n",
       "      <th>count</th>\n",
       "      <th>mean</th>\n",
       "      <th>std</th>\n",
       "      <th>min</th>\n",
       "      <th>25%</th>\n",
       "      <th>50%</th>\n",
       "      <th>75%</th>\n",
       "      <th>max</th>\n",
       "    </tr>\n",
       "    <tr>\n",
       "      <th>company_size</th>\n",
       "      <th></th>\n",
       "      <th></th>\n",
       "      <th></th>\n",
       "      <th></th>\n",
       "      <th></th>\n",
       "      <th></th>\n",
       "      <th></th>\n",
       "      <th></th>\n",
       "    </tr>\n",
       "  </thead>\n",
       "  <tbody>\n",
       "    <tr>\n",
       "      <th>L</th>\n",
       "      <td>43.0</td>\n",
       "      <td>102743.42</td>\n",
       "      <td>73254.10</td>\n",
       "      <td>13400.0</td>\n",
       "      <td>45240.5</td>\n",
       "      <td>90734.0</td>\n",
       "      <td>135000.0</td>\n",
       "      <td>412000.0</td>\n",
       "    </tr>\n",
       "    <tr>\n",
       "      <th>M</th>\n",
       "      <td>66.0</td>\n",
       "      <td>120080.58</td>\n",
       "      <td>56347.79</td>\n",
       "      <td>4000.0</td>\n",
       "      <td>80000.0</td>\n",
       "      <td>119529.5</td>\n",
       "      <td>157500.0</td>\n",
       "      <td>260000.0</td>\n",
       "    </tr>\n",
       "    <tr>\n",
       "      <th>S</th>\n",
       "      <td>21.0</td>\n",
       "      <td>51925.76</td>\n",
       "      <td>33216.29</td>\n",
       "      <td>2859.0</td>\n",
       "      <td>21669.0</td>\n",
       "      <td>49268.0</td>\n",
       "      <td>82500.0</td>\n",
       "      <td>105000.0</td>\n",
       "    </tr>\n",
       "  </tbody>\n",
       "</table>\n",
       "</div>"
      ],
      "text/plain": [
       "              count       mean       std      min      25%       50%  \\\n",
       "company_size                                                           \n",
       "L              43.0  102743.42  73254.10  13400.0  45240.5   90734.0   \n",
       "M              66.0  120080.58  56347.79   4000.0  80000.0  119529.5   \n",
       "S              21.0   51925.76  33216.29   2859.0  21669.0   49268.0   \n",
       "\n",
       "                   75%       max  \n",
       "company_size                      \n",
       "L             135000.0  412000.0  \n",
       "M             157500.0  260000.0  \n",
       "S              82500.0  105000.0  "
      ]
     },
     "execution_count": 23,
     "metadata": {},
     "output_type": "execute_result"
    }
   ],
   "source": [
    "data_agg = df_ds.groupby('company_size')['salary_in_usd'].describe().round(2)\n",
    "print('Распределение зарплат у DS по размеру компании')\n",
    "data_agg"
   ]
  },
  {
   "cell_type": "markdown",
   "metadata": {},
   "source": [
    "Распределения зп различны для разных размеров компаний. Сотрудники средних компаний получают больше, чем в маленьких и больших компаниях. Чтобы определить, являются ли эти различия статистически значимыми, в следующем разделе мы проведём статистические тесты."
   ]
  },
  {
   "cell_type": "markdown",
   "metadata": {},
   "source": [
    "### Распределение зарплат у DS по опыту работы"
   ]
  },
  {
   "cell_type": "code",
   "execution_count": 38,
   "metadata": {},
   "outputs": [
    {
     "data": {
      "image/png": "[encoded data removed]",
      "text/plain": [
       "<Figure size 640x480 with 1 Axes>"
      ]
     },
     "metadata": {},
     "output_type": "display_data"
    }
   ],
   "source": [
    "ax = sns.boxplot(df_ds, x='salary_in_usd', y='experience_level', orient='h', medianprops={\"color\": \"red\", \"linestyle\": '--'})\n",
    "ax.set(xlabel='Размер зарплат', ylabel='Опыт работы')\n",
    "plt.title('Распределение зарплат у DS по опыту работы')\n",
    "plt.show()"
   ]
  },
  {
   "cell_type": "code",
   "execution_count": 24,
   "metadata": {},
   "outputs": [
    {
     "name": "stdout",
     "output_type": "stream",
     "text": [
      "Распределение зарплат у DS по опыту работы\n"
     ]
    },
    {
     "data": {
      "text/html": [
       "<div>\n",
       "<style scoped>\n",
       "    .dataframe tbody tr th:only-of-type {\n",
       "        vertical-align: middle;\n",
       "    }\n",
       "\n",
       "    .dataframe tbody tr th {\n",
       "        vertical-align: top;\n",
       "    }\n",
       "\n",
       "    .dataframe thead th {\n",
       "        text-align: right;\n",
       "    }\n",
       "</style>\n",
       "<table border=\"1\" class=\"dataframe\">\n",
       "  <thead>\n",
       "    <tr style=\"text-align: right;\">\n",
       "      <th></th>\n",
       "      <th>count</th>\n",
       "      <th>mean</th>\n",
       "      <th>std</th>\n",
       "      <th>min</th>\n",
       "      <th>25%</th>\n",
       "      <th>50%</th>\n",
       "      <th>75%</th>\n",
       "      <th>max</th>\n",
       "    </tr>\n",
       "    <tr>\n",
       "      <th>experience_level</th>\n",
       "      <th></th>\n",
       "      <th></th>\n",
       "      <th></th>\n",
       "      <th></th>\n",
       "      <th></th>\n",
       "      <th></th>\n",
       "      <th></th>\n",
       "      <th></th>\n",
       "    </tr>\n",
       "  </thead>\n",
       "  <tbody>\n",
       "    <tr>\n",
       "      <th>EN</th>\n",
       "      <td>22.0</td>\n",
       "      <td>55330.91</td>\n",
       "      <td>31237.82</td>\n",
       "      <td>4000.0</td>\n",
       "      <td>31474.0</td>\n",
       "      <td>50483.5</td>\n",
       "      <td>85027.25</td>\n",
       "      <td>105000.0</td>\n",
       "    </tr>\n",
       "    <tr>\n",
       "      <th>EX</th>\n",
       "      <td>0.0</td>\n",
       "      <td>NaN</td>\n",
       "      <td>NaN</td>\n",
       "      <td>NaN</td>\n",
       "      <td>NaN</td>\n",
       "      <td>NaN</td>\n",
       "      <td>NaN</td>\n",
       "      <td>NaN</td>\n",
       "    </tr>\n",
       "    <tr>\n",
       "      <th>MI</th>\n",
       "      <td>59.0</td>\n",
       "      <td>81891.76</td>\n",
       "      <td>47257.88</td>\n",
       "      <td>2859.0</td>\n",
       "      <td>41339.0</td>\n",
       "      <td>76958.0</td>\n",
       "      <td>118529.50</td>\n",
       "      <td>200000.0</td>\n",
       "    </tr>\n",
       "    <tr>\n",
       "      <th>SE</th>\n",
       "      <td>49.0</td>\n",
       "      <td>150710.86</td>\n",
       "      <td>62918.63</td>\n",
       "      <td>20171.0</td>\n",
       "      <td>104890.0</td>\n",
       "      <td>144000.0</td>\n",
       "      <td>180000.00</td>\n",
       "      <td>412000.0</td>\n",
       "    </tr>\n",
       "  </tbody>\n",
       "</table>\n",
       "</div>"
      ],
      "text/plain": [
       "                  count       mean       std      min       25%       50%  \\\n",
       "experience_level                                                            \n",
       "EN                 22.0   55330.91  31237.82   4000.0   31474.0   50483.5   \n",
       "EX                  0.0        NaN       NaN      NaN       NaN       NaN   \n",
       "MI                 59.0   81891.76  47257.88   2859.0   41339.0   76958.0   \n",
       "SE                 49.0  150710.86  62918.63  20171.0  104890.0  144000.0   \n",
       "\n",
       "                        75%       max  \n",
       "experience_level                       \n",
       "EN                 85027.25  105000.0  \n",
       "EX                      NaN       NaN  \n",
       "MI                118529.50  200000.0  \n",
       "SE                180000.00  412000.0  "
      ]
     },
     "execution_count": 24,
     "metadata": {},
     "output_type": "execute_result"
    }
   ],
   "source": [
    "data_agg = df_ds.groupby('experience_level')['salary_in_usd'].describe().round(2)\n",
    "print('Распределение зарплат у DS по опыту работы')\n",
    "data_agg"
   ]
  },
  {
   "cell_type": "markdown",
   "metadata": {},
   "source": [
    "Распределения зп различны для разных уровней опыта. Чем выше опыт, тем выше зарплата. Также можно сказать, что у DS отсутсвуют сотрудники уровня EX — Executive-level. Чтобы определить, являются ли эти различия статистически значимыми, в следующем разделе мы проведём статистические тесты."
   ]
  },
  {
   "cell_type": "markdown",
   "metadata": {},
   "source": [
    "### Распределение зарплат у DS по общему объёму работы"
   ]
  },
  {
   "cell_type": "code",
   "execution_count": 39,
   "metadata": {},
   "outputs": [
    {
     "data": {
      "image/png": "[encoded data removed]",
      "text/plain": [
       "<Figure size 640x480 with 1 Axes>"
      ]
     },
     "metadata": {},
     "output_type": "display_data"
    }
   ],
   "source": [
    "ax = sns.boxplot(df_ds, x='salary_in_usd', y='remote_ratio', orient='h', medianprops={\"color\": \"red\", \"linestyle\": '--'})\n",
    "ax.set(xlabel='Размер зарплат', ylabel='Общий объём работы')\n",
    "plt.title('Распределение зарплат у DS по общему объёму работы')\n",
    "plt.show()"
   ]
  },
  {
   "cell_type": "code",
   "execution_count": 26,
   "metadata": {},
   "outputs": [
    {
     "name": "stdout",
     "output_type": "stream",
     "text": [
      "Распределение зарплат у DS по общему объёму работы\n"
     ]
    },
    {
     "data": {
      "text/html": [
       "<div>\n",
       "<style scoped>\n",
       "    .dataframe tbody tr th:only-of-type {\n",
       "        vertical-align: middle;\n",
       "    }\n",
       "\n",
       "    .dataframe tbody tr th {\n",
       "        vertical-align: top;\n",
       "    }\n",
       "\n",
       "    .dataframe thead th {\n",
       "        text-align: right;\n",
       "    }\n",
       "</style>\n",
       "<table border=\"1\" class=\"dataframe\">\n",
       "  <thead>\n",
       "    <tr style=\"text-align: right;\">\n",
       "      <th></th>\n",
       "      <th>count</th>\n",
       "      <th>mean</th>\n",
       "      <th>std</th>\n",
       "      <th>min</th>\n",
       "      <th>25%</th>\n",
       "      <th>50%</th>\n",
       "      <th>75%</th>\n",
       "      <th>max</th>\n",
       "    </tr>\n",
       "    <tr>\n",
       "      <th>remote_ratio</th>\n",
       "      <th></th>\n",
       "      <th></th>\n",
       "      <th></th>\n",
       "      <th></th>\n",
       "      <th></th>\n",
       "      <th></th>\n",
       "      <th></th>\n",
       "      <th></th>\n",
       "    </tr>\n",
       "  </thead>\n",
       "  <tbody>\n",
       "    <tr>\n",
       "      <th>0</th>\n",
       "      <td>38.0</td>\n",
       "      <td>98444.97</td>\n",
       "      <td>58647.60</td>\n",
       "      <td>2859.0</td>\n",
       "      <td>49781.25</td>\n",
       "      <td>93582.0</td>\n",
       "      <td>139050.0</td>\n",
       "      <td>215300.0</td>\n",
       "    </tr>\n",
       "    <tr>\n",
       "      <th>50</th>\n",
       "      <td>24.0</td>\n",
       "      <td>73827.83</td>\n",
       "      <td>36204.18</td>\n",
       "      <td>20171.0</td>\n",
       "      <td>47783.75</td>\n",
       "      <td>62726.0</td>\n",
       "      <td>102250.0</td>\n",
       "      <td>147000.0</td>\n",
       "    </tr>\n",
       "    <tr>\n",
       "      <th>100</th>\n",
       "      <td>68.0</td>\n",
       "      <td>116484.54</td>\n",
       "      <td>70908.36</td>\n",
       "      <td>5679.0</td>\n",
       "      <td>64420.00</td>\n",
       "      <td>111500.0</td>\n",
       "      <td>160000.0</td>\n",
       "      <td>412000.0</td>\n",
       "    </tr>\n",
       "  </tbody>\n",
       "</table>\n",
       "</div>"
      ],
      "text/plain": [
       "              count       mean       std      min       25%       50%  \\\n",
       "remote_ratio                                                            \n",
       "0              38.0   98444.97  58647.60   2859.0  49781.25   93582.0   \n",
       "50             24.0   73827.83  36204.18  20171.0  47783.75   62726.0   \n",
       "100            68.0  116484.54  70908.36   5679.0  64420.00  111500.0   \n",
       "\n",
       "                   75%       max  \n",
       "remote_ratio                      \n",
       "0             139050.0  215300.0  \n",
       "50            102250.0  147000.0  \n",
       "100           160000.0  412000.0  "
      ]
     },
     "execution_count": 26,
     "metadata": {},
     "output_type": "execute_result"
    }
   ],
   "source": [
    "data_agg = df_ds.groupby('remote_ratio')['salary_in_usd'].describe().round(2)\n",
    "print('Распределение зарплат у DS по общему объёму работы')\n",
    "data_agg"
   ]
  },
  {
   "cell_type": "markdown",
   "metadata": {},
   "source": [
    "Распределения зп различны для общего объёма работы. Уровень зарплаты повышается в 2-х случаях, если сотрудник не занимается удаленной работой(или ее менее 20%) или же наоборот имеет полностью удалённую работу (более 80 %). Сотрудники с частично удалённой работой удаленной работой получают в среднем на 30% меньше . Чтобы определить, являются ли эти различия статистически значимыми, в следующем разделе мы проведём статистические тесты."
   ]
  },
  {
   "cell_type": "markdown",
   "metadata": {},
   "source": [
    "### Распределение Data Scientist и Data Engineer в разных компаниях"
   ]
  },
  {
   "cell_type": "code",
   "execution_count": 40,
   "metadata": {},
   "outputs": [],
   "source": [
    "d =data[data['job_title'].isin(['Data Scientist','Data Engineer'])]"
   ]
  },
  {
   "cell_type": "code",
   "execution_count": 41,
   "metadata": {},
   "outputs": [
    {
     "data": {
      "image/png": "[encoded data removed]",
      "text/plain": [
       "<Figure size 640x480 with 1 Axes>"
      ]
     },
     "metadata": {},
     "output_type": "display_data"
    }
   ],
   "source": [
    "ax = sns.countplot(data=d, x=d['company_size'],hue='job_title')\n",
    "ax.set(xlabel='Год', ylabel='Количество')\n",
    "plt.title('Распределение Data Scientist и Data Engineer в разных компаниях')\n",
    "plt.show()"
   ]
  },
  {
   "cell_type": "markdown",
   "metadata": {},
   "source": [
    "Распределения специалистов Data Scientist и Data Engineer в разных компаниях показывает нам зависимоть количество сотрудников указанных специальностей от размера компании. Как видно из диаграммы, наибольшее количество сотрудников обеих специальностей сосредаточенов компаниях средних размеров. Чтобы определить, являются ли эти различия статистически значимыми, в следующем разделе мы проведём статистические тесты."
   ]
  },
  {
   "cell_type": "markdown",
   "metadata": {},
   "source": [
    "### Cоотношение зарплаты Data Scientist и Data Engineer"
   ]
  },
  {
   "cell_type": "code",
   "execution_count": 42,
   "metadata": {},
   "outputs": [
    {
     "data": {
      "text/html": [
       "<div>\n",
       "<style scoped>\n",
       "    .dataframe tbody tr th:only-of-type {\n",
       "        vertical-align: middle;\n",
       "    }\n",
       "\n",
       "    .dataframe tbody tr th {\n",
       "        vertical-align: top;\n",
       "    }\n",
       "\n",
       "    .dataframe thead th {\n",
       "        text-align: right;\n",
       "    }\n",
       "</style>\n",
       "<table border=\"1\" class=\"dataframe\">\n",
       "  <thead>\n",
       "    <tr style=\"text-align: right;\">\n",
       "      <th>work_year</th>\n",
       "      <th>2020</th>\n",
       "      <th>2021</th>\n",
       "      <th>2022</th>\n",
       "    </tr>\n",
       "    <tr>\n",
       "      <th>job_title</th>\n",
       "      <th></th>\n",
       "      <th></th>\n",
       "      <th></th>\n",
       "    </tr>\n",
       "  </thead>\n",
       "  <tbody>\n",
       "    <tr>\n",
       "      <th>Data Engineer</th>\n",
       "      <td>88162.00</td>\n",
       "      <td>79434.87</td>\n",
       "      <td>124651.78</td>\n",
       "    </tr>\n",
       "    <tr>\n",
       "      <th>Data Scientist</th>\n",
       "      <td>85970.52</td>\n",
       "      <td>70215.77</td>\n",
       "      <td>131366.94</td>\n",
       "    </tr>\n",
       "  </tbody>\n",
       "</table>\n",
       "</div>"
      ],
      "text/plain": [
       "work_year           2020      2021       2022\n",
       "job_title                                    \n",
       "Data Engineer   88162.00  79434.87  124651.78\n",
       "Data Scientist  85970.52  70215.77  131366.94"
      ]
     },
     "execution_count": 42,
     "metadata": {},
     "output_type": "execute_result"
    }
   ],
   "source": [
    "#строим сводную таблицу\n",
    "pivot_2 = d.pivot_table(\n",
    "    values = 'salary_in_usd',\n",
    "    columns = 'work_year',\n",
    "    index = 'job_title',\n",
    ")\n",
    "pivot_2.round(2)"
   ]
  },
  {
   "cell_type": "code",
   "execution_count": 43,
   "metadata": {},
   "outputs": [
    {
     "data": {
      "image/png": "[encoded data removed]",
      "text/plain": [
       "<Figure size 640x480 with 2 Axes>"
      ]
     },
     "metadata": {},
     "output_type": "display_data"
    }
   ],
   "source": [
    "#строим тепловую карту\n",
    "heatmap = sns.heatmap(data=pivot_2, cmap='YlGnBu')\n",
    "heatmap.set_title('Тепловая карта зароботной платы', fontsize=16);\n",
    "heatmap.set_xlabel('Год');\n",
    "heatmap.set_ylabel('Должность');"
   ]
  },
  {
   "cell_type": "markdown",
   "metadata": {},
   "source": [
    "Cоотношение зарплаты Data Scientist и Data Engineer как мы видим на диграмме указывают на повышение зарплат у обеих специальностей в 2022 году. Чтобы определить, являются ли эти различия статистически значимыми, в следующем разделе мы проведём статистические тесты."
   ]
  },
  {
   "cell_type": "markdown",
   "metadata": {},
   "source": [
    "**«Какие факторы влияют на заработную плату?»**\n",
    "\n",
    "С помощью визуализаций мы увидели,что все признаки так или иначе влияют на заработную плату должности Data Scientist. Далее в проекте мы проверим насколько визулизации точно отображают суть дел, являются ли они статистически значимыми."
   ]
  },
  {
   "cell_type": "markdown",
   "metadata": {},
   "source": [
    "## <center> Статистический анализ данных"
   ]
  },
  {
   "cell_type": "code",
   "execution_count": 49,
   "metadata": {},
   "outputs": [
    {
     "name": "stdout",
     "output_type": "stream",
     "text": [
      "Уровень значимости alpha = 0.05\n"
     ]
    }
   ],
   "source": [
    "# задаём уровень значимости\n",
    "alpha = 0.05 \n",
    "print(\"Уровень значимости alpha = {:.2f}\".format(alpha))"
   ]
  },
  {
   "cell_type": "code",
   "execution_count": 50,
   "metadata": {},
   "outputs": [],
   "source": [
    "# функция для принятия решения о нормальности\n",
    "def decision_normality(p):\n",
    "    print('p-value = {:.3f}'.format(p))\n",
    "    if p <= alpha:\n",
    "        print('p-значение меньше, чем заданный уровень значимости {:.2f}. Распределение отлично от нормального'.format(alpha))\n",
    "    else:\n",
    "        print('p-значение больше, чем заданный уровень значимости {:.2f}. Распределение является нормальным'.format(alpha))\n",
    "\n",
    "\n",
    "# функция для принятия решения об отклонении нулевой гипотезы\n",
    "def decision_hypothesis(p):\n",
    "    print('p-value = {:.3f}'.format(p))\n",
    "    if p <= alpha:\n",
    "        print('p-значение меньше, чем заданный уровень значимости {:.2f}. Отвергаем нулевую гипотезу в пользу альтернативной.'.format(alpha))\n",
    "    else:\n",
    "        print('p-значение больше, чем заданный уровень значимости {:.2f}. У нас нет оснований отвергнуть нулевую гипотезу.'.format(alpha))"
   ]
  },
  {
   "cell_type": "markdown",
   "metadata": {},
   "source": [
    "### <center>**1. Наблюдается ли ежегодный рост зарплат у специалистов Data Scientist?**"
   ]
  },
  {
   "cell_type": "markdown",
   "metadata": {},
   "source": [
    "**Проверка на нормальность**\n",
    "\n",
    "С помощью теста Шапиро-Уилка проверим, распределён ли признак нормально."
   ]
  },
  {
   "cell_type": "code",
   "execution_count": 67,
   "metadata": {},
   "outputs": [
    {
     "name": "stdout",
     "output_type": "stream",
     "text": [
      "Для 2020:\n",
      "p-value = 0.000\n",
      "p-значение меньше, чем заданный уровень значимости 0.05. Распределение отлично от нормального\n",
      "Для 2021:\n",
      "p-value = 0.107\n",
      "p-значение больше, чем заданный уровень значимости 0.05. Распределение является нормальным\n",
      "Для 2022:\n",
      "p-value = 0.676\n",
      "p-значение больше, чем заданный уровень значимости 0.05. Распределение является нормальным\n"
     ]
    }
   ],
   "source": [
    "# загружаем данные\n",
    "age2020 = df_ds.loc[df_ds['work_year']==2020, 'salary_in_usd']\n",
    "age2021 = df_ds.loc[df_ds['work_year']==2021, 'salary_in_usd']\n",
    "age2022 = df_ds.loc[df_ds['work_year']==2022, 'salary_in_usd']\n",
    "\n",
    "# проводим тест Шапиро-Уилка\n",
    "print('Для 2020:')\n",
    "result = stats.shapiro(age2020)\n",
    "decision_normality(result[1])\n",
    "\n",
    "print('Для 2021:')\n",
    "result = stats.shapiro(age2021)\n",
    "decision_normality(result[1])\n",
    "\n",
    "print('Для 2022:')\n",
    "result = stats.shapiro(age2022)\n",
    "decision_normality(result[1])"
   ]
  },
  {
   "cell_type": "markdown",
   "metadata": {},
   "source": [
    "Чтобы проверить нашу гипотезу, можно использовать критерий Краскела — Уоллиса (однофакторный дисперсионный анализ на рангах)\n",
    "\n",
    "**Сформулируем нулевую и альтернативные гипотезы**\n",
    "\n",
    "*Нулевая гипотеза* ($H_0$): распределение зарплат у DS  по 2020г, 2021г и 2022г одинаковы.\n",
    "\n",
    "*Альтернативная гипотеза* ($H_1$): распределение зарплат у DS  по 2020г, 2021г и 2022г неодинаковы."
   ]
  },
  {
   "cell_type": "code",
   "execution_count": 58,
   "metadata": {},
   "outputs": [
    {
     "name": "stdout",
     "output_type": "stream",
     "text": [
      "p-value = 0.000\n",
      "p-значение меньше, чем заданный уровень значимости 0.05. Отвергаем нулевую гипотезу в пользу альтернативной.\n"
     ]
    }
   ],
   "source": [
    "# проводим тест\n",
    "_, p = stats.kruskal(age2020, age2021, age2022)\n",
    "\n",
    "decision_hypothesis(p)"
   ]
  },
  {
   "cell_type": "markdown",
   "metadata": {},
   "source": [
    "Чтобы проверить нашу гипотезу, можно использовать U-критерий Манна — Уитни для сравнения распределений на основе рангов.\n",
    "\n",
    "Сформулируем гипотезы:\n",
    "\n",
    "* Нулевая гипотеза: Ежегодно зарплата у специалистов Data Scientist одинаковая.\n",
    "* Альтернативная гипотеза: Ежегодно зарплата у специалистов Data Scientist растет."
   ]
  },
  {
   "cell_type": "code",
   "execution_count": 68,
   "metadata": {},
   "outputs": [
    {
     "name": "stdout",
     "output_type": "stream",
     "text": [
      "p-value = 0.599\n",
      "p-значение больше, чем заданный уровень значимости 0.05. У нас нет оснований отвергнуть нулевую гипотезу.\n"
     ]
    }
   ],
   "source": [
    "_, p = stats.mannwhitneyu(age2020, age2021)\n",
    "decision_hypothesis(p)"
   ]
  },
  {
   "cell_type": "code",
   "execution_count": 69,
   "metadata": {},
   "outputs": [
    {
     "name": "stdout",
     "output_type": "stream",
     "text": [
      "p-value = 0.000\n",
      "p-значение меньше, чем заданный уровень значимости 0.05. Отвергаем нулевую гипотезу в пользу альтернативной.\n"
     ]
    }
   ],
   "source": [
    "_, p = stats.mannwhitneyu(age2021, age2022)\n",
    "decision_hypothesis(p)"
   ]
  },
  {
   "cell_type": "markdown",
   "metadata": {},
   "source": [
    "**Вывод:**\n",
    "\n",
    " Мы можем предположить, что размер зарплат от года к году изменяется. Статистическим методом мы проверили отдельно каждый год. Из этого можно сделать вывод, что между 2020 годом и 2021 зарплата не изменилась. А между 2021 годом 2022 наблюдается тенденция к росту."
   ]
  },
  {
   "cell_type": "markdown",
   "metadata": {},
   "source": [
    "### <center>**2. Как соотносятся зарплаты Data Scientist и Data Engineer в 2022 году?**"
   ]
  },
  {
   "cell_type": "markdown",
   "metadata": {},
   "source": [
    "**Проверка на нормальность**\n",
    "\n",
    "С помощью теста Шапиро-Уилка проверим, распределён ли признак нормально."
   ]
  },
  {
   "cell_type": "code",
   "execution_count": 66,
   "metadata": {},
   "outputs": [
    {
     "name": "stdout",
     "output_type": "stream",
     "text": [
      "Для DS:\n",
      "p-value = 0.000\n",
      "p-значение меньше, чем заданный уровень значимости 0.05. Распределение отлично от нормального\n",
      "Для DE:\n",
      "p-value = 0.000\n",
      "p-значение меньше, чем заданный уровень значимости 0.05. Распределение отлично от нормального\n"
     ]
    }
   ],
   "source": [
    "# загружаем данные\n",
    "ds = data.loc[data['work_year']==2022, 'salary_in_usd']\n",
    "de = data.loc[data['work_year']==2022, 'salary_in_usd']\n",
    "\n",
    "# проводим тест Шапиро-Уилка\n",
    "print('Для DS:')\n",
    "result = stats.shapiro(ds)\n",
    "decision_normality(result[1])\n",
    "\n",
    "print('Для DE:')\n",
    "result = stats.shapiro(de)\n",
    "decision_normality(result[1])"
   ]
  },
  {
   "cell_type": "markdown",
   "metadata": {},
   "source": [
    "Чтобы проверить нашу гипотезу, можно использовать U-критерий Манна — Уитни, чтобы оценить различия распределений признака в двух независимых группах.\n",
    "\n",
    "**Сформулируем нулевую и альтернативные гипотезы**\n",
    "\n",
    "*Нулевая гипотеза* ($H_0$): распределение зарплат у DS и DE в 2022 году одинаковы.\n",
    "\n",
    "*Альтернативная гипотеза* ($H_1$): распределение зарплат у DS и DE в 2022 году неодинаковы."
   ]
  },
  {
   "cell_type": "code",
   "execution_count": 56,
   "metadata": {},
   "outputs": [
    {
     "name": "stdout",
     "output_type": "stream",
     "text": [
      "p-value = 1.000\n",
      "p-значение больше, чем заданный уровень значимости 0.05. У нас нет оснований отвергнуть нулевую гипотезу.\n"
     ]
    }
   ],
   "source": [
    "# проводим тест\n",
    "_, p = stats.mannwhitneyu(ds,de)\n",
    "\n",
    "decision_hypothesis(p)"
   ]
  },
  {
   "cell_type": "markdown",
   "metadata": {},
   "source": [
    "**Ввод:** \n",
    "\n",
    "Распределение зарплат у Data Scientist и Data Engineer в 2022 году одинаковое."
   ]
  },
  {
   "cell_type": "markdown",
   "metadata": {},
   "source": [
    "### <center>**3. Как соотносятся зарплаты специалистов Data Scientist в компаниях различных размеров?**"
   ]
  },
  {
   "cell_type": "markdown",
   "metadata": {},
   "source": [
    "**Проверка на нормальность**\n",
    "\n",
    "С помощью теста Шапиро-Уилка проверим, распределён ли признак нормально."
   ]
  },
  {
   "cell_type": "code",
   "execution_count": 65,
   "metadata": {},
   "outputs": [
    {
     "name": "stdout",
     "output_type": "stream",
     "text": [
      "Для \"S\":\n",
      "p-value = 0.189\n",
      "p-значение больше, чем заданный уровень значимости 0.05. Распределение является нормальным\n",
      "Для \"M\":\n",
      "p-value = 0.897\n",
      "p-значение больше, чем заданный уровень значимости 0.05. Распределение является нормальным\n",
      "Для \"L\":\n",
      "p-value = 0.000\n",
      "p-значение меньше, чем заданный уровень значимости 0.05. Распределение отлично от нормального\n"
     ]
    }
   ],
   "source": [
    "# загружаем данные\n",
    "s = df_ds.loc[df_ds['company_size']==\"S\", 'salary_in_usd']\n",
    "m = df_ds.loc[df_ds['company_size']==\"M\", 'salary_in_usd']\n",
    "l = df_ds.loc[df_ds['company_size']==\"L\", 'salary_in_usd']\n",
    "\n",
    "# проводим тест Шапиро-Уилка\n",
    "print('Для \"S\":')\n",
    "result = stats.shapiro(s)\n",
    "decision_normality(result[1])\n",
    "\n",
    "print('Для \"M\":')\n",
    "result = stats.shapiro(m)\n",
    "decision_normality(result[1])\n",
    "\n",
    "print('Для \"L\":')\n",
    "result = stats.shapiro(l)\n",
    "decision_normality(result[1])"
   ]
  },
  {
   "cell_type": "markdown",
   "metadata": {},
   "source": [
    "Чтобы проверить нашу гипотезу, можно использовать критерий Краскела — Уоллиса (однофакторный дисперсионный анализ на рангах)\n",
    "\n",
    "**Сформулируем нулевую и альтернативные гипотезы**\n",
    "\n",
    "*Нулевая гипотеза* ($H_0$): распределение зарплат у всех компаний равны:\n",
    "$$H_0: s = m = l$$\n",
    "\n",
    "*Альтернативная гипотеза* ($H_1$): распределение зарплат у всех компаний  не равны:\n",
    "$$H_1 s \\neq m \\neq l$$"
   ]
  },
  {
   "cell_type": "code",
   "execution_count": 60,
   "metadata": {},
   "outputs": [
    {
     "name": "stdout",
     "output_type": "stream",
     "text": [
      "p-value = 0.000\n",
      "p-значение меньше, чем заданный уровень значимости 0.05. Отвергаем нулевую гипотезу в пользу альтернативной.\n"
     ]
    }
   ],
   "source": [
    "# проводим тест\n",
    "_, p = stats.kruskal(s,m,l)\n",
    "\n",
    "decision_hypothesis(p)"
   ]
  },
  {
   "cell_type": "markdown",
   "metadata": {},
   "source": [
    "Чтобы проверить нашу гипотезу, можно использовать двухвыборочный t-критерий, для сравнения средних значений в двух независимых группах.\n",
    "\n",
    "**Сформулируем нулевую и альтернативные гипотезы**\n",
    "\n",
    "*Нулевая гипотеза* ($H_0$): Зарплаты специалистов Data Scientist в компаниях размера \"M\"($\\mu_1$)меньше или равны зарплатам  в компаниях размера \"S\"($\\mu_2$).\n",
    "$$H_0 : \\mu_1 \\leq \\mu_2$$\n",
    "\n",
    "*Альтернативная гипотеза* ($H_1$): Зарплаты специалистов Data Scientist в компаниях размера \"M\"($\\mu_1$)больше зарплат в компаниях размера \"S\"($\\mu_2$).\n",
    "$$H_1 : \\mu_1 > \\mu_2$$"
   ]
  },
  {
   "cell_type": "code",
   "execution_count": 74,
   "metadata": {},
   "outputs": [
    {
     "name": "stdout",
     "output_type": "stream",
     "text": [
      "Тест на равенство дисперсий\n",
      "p-value = 0.018\n",
      "Дисперсии не одинаковы, в stats.ttest_ind нужно использовать параметр equal_var=False.\n"
     ]
    }
   ],
   "source": [
    "# проводим тест Левена на равенство дисперсий\n",
    "print('Тест на равенство дисперсий')\n",
    "result = stats.levene(s,m)\n",
    "p = result[1]\n",
    "print('p-value = {:.3f}'.format(p))\n",
    "\n",
    "# интерпретируем результат\n",
    "if p <= alpha:\n",
    "    print('Дисперсии не одинаковы, в stats.ttest_ind нужно использовать параметр equal_var=False.')\n",
    "else:\n",
    "    print('Дисперсии одинаковы, в stats.ttest_ind нужно использовать параметр equal_var=True.')"
   ]
  },
  {
   "cell_type": "code",
   "execution_count": 75,
   "metadata": {},
   "outputs": [
    {
     "name": "stdout",
     "output_type": "stream",
     "text": [
      "\n",
      "Тест на равенство средних\n",
      "p-value = 0.000\n",
      "p-значение меньше, чем заданный уровень значимости 0.05. Отвергаем нулевую гипотезу в пользу альтернативной.\n"
     ]
    }
   ],
   "source": [
    "# проводим тест на сравнение средних в группах\n",
    "print('\\nТест на равенство средних')\n",
    "_, p = stats.ttest_ind(s,m, alternative='less', equal_var=False)\n",
    "decision_hypothesis(p)"
   ]
  },
  {
   "cell_type": "markdown",
   "metadata": {},
   "source": [
    "В компаниях  средних размеров заплата больше, чем в маленьких."
   ]
  },
  {
   "cell_type": "markdown",
   "metadata": {},
   "source": [
    "Чтобы проверить нашу гипотезу, можно использовать U-критерий Манна — Уитни для сравнения распределений на основе рангов.\n",
    "\n",
    "**Сформулируем нулевую и альтернативные гипотезы**\n",
    "\n",
    "*Нулевая гипотеза* ($H_0$): Зарплаты специалистов Data Scientist в компаниях различных размеров одинаковые.\n",
    "\n",
    "*Альтернативная гипотеза* ($H_1$): Зарплаты специалистов Data Scientist в компаниях различных размеров разные."
   ]
  },
  {
   "cell_type": "code",
   "execution_count": 76,
   "metadata": {},
   "outputs": [
    {
     "name": "stdout",
     "output_type": "stream",
     "text": [
      "p-value = 0.048\n",
      "p-значение меньше, чем заданный уровень значимости 0.05. Отвергаем нулевую гипотезу в пользу альтернативной.\n"
     ]
    }
   ],
   "source": [
    "_, p = stats.mannwhitneyu(m,l)\n",
    "decision_hypothesis(p)"
   ]
  },
  {
   "cell_type": "markdown",
   "metadata": {},
   "source": [
    "**Ввод:** \n",
    "\n",
    "Компании различных размеров имеют разные уровни зарплаты для специалистов Data Scientist."
   ]
  },
  {
   "cell_type": "markdown",
   "metadata": {},
   "source": [
    "### <center>**4. Есть ли связь между наличием должностей Data Scientist и Data Engineer и размером компании?**"
   ]
  },
  {
   "cell_type": "markdown",
   "metadata": {},
   "source": [
    "Чтобы проверить нашу гипотезу, можно использовать критерий хи-квадрат, который позволяет оценить, связаны ли между собой два категориальных признака.\n",
    "\n",
    "**Сформулируем нулевую и альтернативные гипотезы**\n",
    "\n",
    "*Нулевая гипотеза*: Наличие связи между должностями Data Scientist и Data Engineer и размером компании отсутствует\n",
    "\n",
    "*Альтернативная гипотеза*: Наличие связи между должностями Data Scientist и Data Engineer и размером компании отображено"
   ]
  },
  {
   "cell_type": "code",
   "execution_count": 64,
   "metadata": {},
   "outputs": [
    {
     "data": {
      "text/html": [
       "<div>\n",
       "<style scoped>\n",
       "    .dataframe tbody tr th:only-of-type {\n",
       "        vertical-align: middle;\n",
       "    }\n",
       "\n",
       "    .dataframe tbody tr th {\n",
       "        vertical-align: top;\n",
       "    }\n",
       "\n",
       "    .dataframe thead th {\n",
       "        text-align: right;\n",
       "    }\n",
       "</style>\n",
       "<table border=\"1\" class=\"dataframe\">\n",
       "  <thead>\n",
       "    <tr style=\"text-align: right;\">\n",
       "      <th>company_size</th>\n",
       "      <th>L</th>\n",
       "      <th>M</th>\n",
       "      <th>S</th>\n",
       "    </tr>\n",
       "    <tr>\n",
       "      <th>job_title</th>\n",
       "      <th></th>\n",
       "      <th></th>\n",
       "      <th></th>\n",
       "    </tr>\n",
       "  </thead>\n",
       "  <tbody>\n",
       "    <tr>\n",
       "      <th>Data Engineer</th>\n",
       "      <td>34</td>\n",
       "      <td>81</td>\n",
       "      <td>6</td>\n",
       "    </tr>\n",
       "    <tr>\n",
       "      <th>Data Scientist</th>\n",
       "      <td>43</td>\n",
       "      <td>66</td>\n",
       "      <td>21</td>\n",
       "    </tr>\n",
       "  </tbody>\n",
       "</table>\n",
       "</div>"
      ],
      "text/plain": [
       "company_size     L   M   S\n",
       "job_title                 \n",
       "Data Engineer   34  81   6\n",
       "Data Scientist  43  66  21"
      ]
     },
     "execution_count": 64,
     "metadata": {},
     "output_type": "execute_result"
    }
   ],
   "source": [
    "# вычисляем таблицу сопряжённости\n",
    "cross_table = pd.crosstab(d['job_title'],d['company_size'])\n",
    "cross_table"
   ]
  },
  {
   "cell_type": "code",
   "execution_count": 65,
   "metadata": {},
   "outputs": [
    {
     "name": "stdout",
     "output_type": "stream",
     "text": [
      "p-value = 0.005\n",
      "p-значение меньше, чем заданный уровень значимости 0.05. Отвергаем нулевую гипотезу в пользу альтернативной.\n"
     ]
    }
   ],
   "source": [
    "# проводим тест\n",
    "_, p, _, _ = stats.chi2_contingency(cross_table)\n",
    "\n",
    "decision_hypothesis(p)"
   ]
  },
  {
   "cell_type": "markdown",
   "metadata": {},
   "source": [
    "**Вывод:** \n",
    "\n",
    "У нас нет оснований утверждать о взаимосвязи между наличием должностей Data Scientist и Data Engineer и размером компании"
   ]
  },
  {
   "cell_type": "markdown",
   "metadata": {},
   "source": [
    "## <center> Дополнительное исследование"
   ]
  },
  {
   "cell_type": "markdown",
   "metadata": {},
   "source": [
    "* Размер заработной платы в зависимости от опытa работы и размерa компании"
   ]
  },
  {
   "cell_type": "code",
   "execution_count": 111,
   "metadata": {},
   "outputs": [
    {
     "data": {
      "text/html": [
       "<div>\n",
       "<style scoped>\n",
       "    .dataframe tbody tr th:only-of-type {\n",
       "        vertical-align: middle;\n",
       "    }\n",
       "\n",
       "    .dataframe tbody tr th {\n",
       "        vertical-align: top;\n",
       "    }\n",
       "\n",
       "    .dataframe thead th {\n",
       "        text-align: right;\n",
       "    }\n",
       "</style>\n",
       "<table border=\"1\" class=\"dataframe\">\n",
       "  <thead>\n",
       "    <tr style=\"text-align: right;\">\n",
       "      <th></th>\n",
       "      <th></th>\n",
       "      <th>count</th>\n",
       "      <th>mean</th>\n",
       "      <th>std</th>\n",
       "      <th>min</th>\n",
       "      <th>25%</th>\n",
       "      <th>50%</th>\n",
       "      <th>75%</th>\n",
       "      <th>max</th>\n",
       "    </tr>\n",
       "    <tr>\n",
       "      <th>experience_level</th>\n",
       "      <th>company_size</th>\n",
       "      <th></th>\n",
       "      <th></th>\n",
       "      <th></th>\n",
       "      <th></th>\n",
       "      <th></th>\n",
       "      <th></th>\n",
       "      <th></th>\n",
       "      <th></th>\n",
       "    </tr>\n",
       "  </thead>\n",
       "  <tbody>\n",
       "    <tr>\n",
       "      <th rowspan=\"3\" valign=\"top\">EN</th>\n",
       "      <th>L</th>\n",
       "      <td>6.0</td>\n",
       "      <td>38365.00</td>\n",
       "      <td>16034.29</td>\n",
       "      <td>13400.0</td>\n",
       "      <td>31474.00</td>\n",
       "      <td>38321.5</td>\n",
       "      <td>49297.00</td>\n",
       "      <td>58000.0</td>\n",
       "    </tr>\n",
       "    <tr>\n",
       "      <th>M</th>\n",
       "      <td>9.0</td>\n",
       "      <td>56345.11</td>\n",
       "      <td>36340.56</td>\n",
       "      <td>4000.0</td>\n",
       "      <td>28399.00</td>\n",
       "      <td>49646.0</td>\n",
       "      <td>86703.00</td>\n",
       "      <td>100000.0</td>\n",
       "    </tr>\n",
       "    <tr>\n",
       "      <th>S</th>\n",
       "      <td>7.0</td>\n",
       "      <td>68569.14</td>\n",
       "      <td>30763.04</td>\n",
       "      <td>21669.0</td>\n",
       "      <td>50294.50</td>\n",
       "      <td>62726.0</td>\n",
       "      <td>95000.00</td>\n",
       "      <td>105000.0</td>\n",
       "    </tr>\n",
       "    <tr>\n",
       "      <th rowspan=\"3\" valign=\"top\">MI</th>\n",
       "      <th>L</th>\n",
       "      <td>22.0</td>\n",
       "      <td>85263.41</td>\n",
       "      <td>40580.50</td>\n",
       "      <td>31615.0</td>\n",
       "      <td>42860.75</td>\n",
       "      <td>84243.5</td>\n",
       "      <td>116435.50</td>\n",
       "      <td>160000.0</td>\n",
       "    </tr>\n",
       "    <tr>\n",
       "      <th>M</th>\n",
       "      <td>25.0</td>\n",
       "      <td>100973.48</td>\n",
       "      <td>46419.79</td>\n",
       "      <td>33808.0</td>\n",
       "      <td>65438.00</td>\n",
       "      <td>100000.0</td>\n",
       "      <td>130000.00</td>\n",
       "      <td>200000.0</td>\n",
       "    </tr>\n",
       "    <tr>\n",
       "      <th>S</th>\n",
       "      <td>12.0</td>\n",
       "      <td>35956.83</td>\n",
       "      <td>27897.97</td>\n",
       "      <td>2859.0</td>\n",
       "      <td>12042.25</td>\n",
       "      <td>33864.5</td>\n",
       "      <td>51681.50</td>\n",
       "      <td>82500.0</td>\n",
       "    </tr>\n",
       "    <tr>\n",
       "      <th rowspan=\"3\" valign=\"top\">SE</th>\n",
       "      <th>L</th>\n",
       "      <td>15.0</td>\n",
       "      <td>154132.13</td>\n",
       "      <td>91927.54</td>\n",
       "      <td>20171.0</td>\n",
       "      <td>111845.50</td>\n",
       "      <td>140400.0</td>\n",
       "      <td>192650.00</td>\n",
       "      <td>412000.0</td>\n",
       "    </tr>\n",
       "    <tr>\n",
       "      <th>M</th>\n",
       "      <td>32.0</td>\n",
       "      <td>152933.59</td>\n",
       "      <td>45392.33</td>\n",
       "      <td>77684.0</td>\n",
       "      <td>119567.25</td>\n",
       "      <td>148000.0</td>\n",
       "      <td>180000.00</td>\n",
       "      <td>260000.0</td>\n",
       "    </tr>\n",
       "    <tr>\n",
       "      <th>S</th>\n",
       "      <td>2.0</td>\n",
       "      <td>89487.50</td>\n",
       "      <td>2474.17</td>\n",
       "      <td>87738.0</td>\n",
       "      <td>88612.75</td>\n",
       "      <td>89487.5</td>\n",
       "      <td>90362.25</td>\n",
       "      <td>91237.0</td>\n",
       "    </tr>\n",
       "  </tbody>\n",
       "</table>\n",
       "</div>"
      ],
      "text/plain": [
       "                               count       mean       std      min        25%  \\\n",
       "experience_level company_size                                                   \n",
       "EN               L               6.0   38365.00  16034.29  13400.0   31474.00   \n",
       "                 M               9.0   56345.11  36340.56   4000.0   28399.00   \n",
       "                 S               7.0   68569.14  30763.04  21669.0   50294.50   \n",
       "MI               L              22.0   85263.41  40580.50  31615.0   42860.75   \n",
       "                 M              25.0  100973.48  46419.79  33808.0   65438.00   \n",
       "                 S              12.0   35956.83  27897.97   2859.0   12042.25   \n",
       "SE               L              15.0  154132.13  91927.54  20171.0  111845.50   \n",
       "                 M              32.0  152933.59  45392.33  77684.0  119567.25   \n",
       "                 S               2.0   89487.50   2474.17  87738.0   88612.75   \n",
       "\n",
       "                                    50%        75%       max  \n",
       "experience_level company_size                                 \n",
       "EN               L              38321.5   49297.00   58000.0  \n",
       "                 M              49646.0   86703.00  100000.0  \n",
       "                 S              62726.0   95000.00  105000.0  \n",
       "MI               L              84243.5  116435.50  160000.0  \n",
       "                 M             100000.0  130000.00  200000.0  \n",
       "                 S              33864.5   51681.50   82500.0  \n",
       "SE               L             140400.0  192650.00  412000.0  \n",
       "                 M             148000.0  180000.00  260000.0  \n",
       "                 S              89487.5   90362.25   91237.0  "
      ]
     },
     "execution_count": 111,
     "metadata": {},
     "output_type": "execute_result"
    }
   ],
   "source": [
    "#посмотрим на распределение з/п в зависимости от признаков опыт работы и размер компании\n",
    "df_ds.groupby(['experience_level','company_size'])['salary_in_usd'].describe().round(2)"
   ]
  },
  {
   "cell_type": "code",
   "execution_count": 121,
   "metadata": {},
   "outputs": [
    {
     "data": {
      "image/png": "[encoded data removed]",
      "text/plain": [
       "<Figure size 640x480 with 1 Axes>"
      ]
     },
     "metadata": {},
     "output_type": "display_data"
    }
   ],
   "source": [
    "#строим график\n",
    "ax = sns.countplot(data=df_ds, x='company_size', hue='experience_level')\n",
    "ax.set(xlabel='Размер компании', ylabel='Количество')\n",
    "plt.title('Соотношение специалистов Data Scientist  \\n по опыту работы в разных компаниях')\n",
    "plt.show()"
   ]
  },
  {
   "cell_type": "code",
   "execution_count": 88,
   "metadata": {},
   "outputs": [
    {
     "data": {
      "image/png": "[encoded data removed]",
      "text/plain": [
       "<Figure size 1000x400 with 1 Axes>"
      ]
     },
     "metadata": {},
     "output_type": "display_data"
    }
   ],
   "source": [
    "#строим график \n",
    "fig = plt.figure(figsize=(10, 4))\n",
    "\n",
    "barplot = sns.barplot(\n",
    "    data=df_ds,\n",
    "    x='company_size',\n",
    "    y='salary_in_usd',\n",
    "    hue='experience_level'\n",
    ")\n",
    "barplot.set(xlabel='Размер компании', ylabel='Размер з/п ($)')\n",
    "barplot.set_title('Зависимость заработной платы от опыта работы и размера компании');"
   ]
  },
  {
   "cell_type": "markdown",
   "metadata": {},
   "source": [
    "### <center> **Влияет ли опыт работы и размер компании на зарплату? (рассматриваем все компании только с уровнем \"EN\")**"
   ]
  },
  {
   "cell_type": "markdown",
   "metadata": {},
   "source": [
    "**Проверка на нормальность**\n",
    "\n",
    "С помощью теста Шапиро-Уилка проверим, распределён ли признак нормально. Напомним гипотезы теста Шапиро-Уилка:"
   ]
  },
  {
   "cell_type": "code",
   "execution_count": 122,
   "metadata": {},
   "outputs": [
    {
     "name": "stdout",
     "output_type": "stream",
     "text": [
      "Для S:\n",
      "p-value = 0.570\n",
      "p-значение больше, чем заданный уровень значимости 0.05. Распределение является нормальным\n",
      "Для M:\n",
      "p-value = 0.353\n",
      "p-значение больше, чем заданный уровень значимости 0.05. Распределение является нормальным\n",
      "Для L:\n",
      "p-value = 0.899\n",
      "p-значение больше, чем заданный уровень значимости 0.05. Распределение является нормальным\n"
     ]
    }
   ],
   "source": [
    "# загружаем данные\n",
    "s = df_ds.loc[(df_ds['company_size']=='S') & (data['experience_level']=='EN'), 'salary_in_usd']\n",
    "m = df_ds.loc[(df_ds['company_size']=='M') & (data['experience_level']=='EN'), 'salary_in_usd']\n",
    "l = df_ds.loc[(df_ds['company_size']=='L') & (data['experience_level']=='EN'), 'salary_in_usd']\n",
    "\n",
    "# проводим тест Шапиро-Уилка\n",
    "print('Для S:')\n",
    "result = stats.shapiro(s)\n",
    "decision_normality(result[1])\n",
    "\n",
    "print('Для M:')\n",
    "result = stats.shapiro(m)\n",
    "decision_normality(result[1])\n",
    "\n",
    "print('Для L:')\n",
    "result = stats.shapiro(l)\n",
    "decision_normality(result[1])"
   ]
  },
  {
   "cell_type": "markdown",
   "metadata": {},
   "source": [
    "Чтобы проверить нашу гипотезу, можно использовать oднофакторный дисперсионный анализ (ANOVA)** используют, чтобы сравнить средние значения в более чем двух независимых группах\n",
    "\n",
    "Сформулируем гипотезы в математическом виде:\n",
    "\n",
    "* Нулевая гипотеза: Зарплаты специалистов Data Scientist в компаниях различных размеров(S($m_1$),  M($m_2$) , L($m_3$)) и опытом работы \"EN\"  одинаковое.\n",
    "$$H_0: m_1 =m_2 =m_3$$\n",
    "\n",
    "* Альтернативная гипотеза: Зарплаты специалистов Data Scientist в компаниях различных размеров(S($m_1$),  M($m_2$) , L($m_3$)) и опытом работы \"EN\"  не одинаковое.\n",
    "$$H_1: m_1 \\neq m_2 \\neq m_3$$"
   ]
  },
  {
   "cell_type": "code",
   "execution_count": 123,
   "metadata": {},
   "outputs": [
    {
     "name": "stdout",
     "output_type": "stream",
     "text": [
      "Тест на равенство дисперсий\n",
      "p-value = 0.095\n",
      "Дисперсии одинаковы, мы можем использовать тест ANOVA\n",
      "\n",
      "Тест на равенство средних\n",
      "p-value = 0.227\n",
      "p-значение больше, чем заданный уровень значимости 0.05. У нас нет оснований отвергнуть нулевую гипотезу.\n"
     ]
    }
   ],
   "source": [
    "# проводим тест Левена на равенство дисперсий\n",
    "print('Тест на равенство дисперсий')\n",
    "result = stats.levene(s,m,l)\n",
    "p = result[1]\n",
    "print('p-value = {:.3f}'.format(p))\n",
    "\n",
    "# интерпретируем результат\n",
    "if p <= alpha:\n",
    "    print('Дисперсии не одинаковы, нужно использовать непараметрический тест')\n",
    "else:\n",
    "    print('Дисперсии одинаковы, мы можем использовать тест ANOVA')\n",
    "\n",
    "# проводим тест на сравнение средних в группах\n",
    "print('\\nТест на равенство средних')\n",
    "_, p = stats.f_oneway(s,m,l)\n",
    "\n",
    "decision_hypothesis(p)"
   ]
  },
  {
   "cell_type": "markdown",
   "metadata": {},
   "source": [
    "**Вывод:**\n",
    "\n",
    " Нет оснований утверждать, что в разных компаниях специалисты с уровнем 'EN' получают разные выплаты ."
   ]
  },
  {
   "cell_type": "markdown",
   "metadata": {},
   "source": [
    "### <center>**Чем выше уровень классификации, тем выше уровень зарплаты у специалиста Data Scientist?**"
   ]
  },
  {
   "cell_type": "markdown",
   "metadata": {},
   "source": [
    "**Проверка на нормальность**\n",
    "\n",
    "С помощью теста Шапиро-Уилка проверим, распределён ли признак нормально."
   ]
  },
  {
   "cell_type": "code",
   "execution_count": 64,
   "metadata": {},
   "outputs": [
    {
     "name": "stdout",
     "output_type": "stream",
     "text": [
      "Для \"EN\":\n",
      "p-value = 0.174\n",
      "p-значение больше, чем заданный уровень значимости 0.05. Распределение является нормальным\n",
      "Для \"MI\":\n",
      "p-value = 0.146\n",
      "p-значение больше, чем заданный уровень значимости 0.05. Распределение является нормальным\n",
      "Для \"SE\":\n",
      "p-value = 0.002\n",
      "p-значение меньше, чем заданный уровень значимости 0.05. Распределение отлично от нормального\n"
     ]
    }
   ],
   "source": [
    "# загружаем данные\n",
    "en = df_ds.loc[df_ds['experience_level']==\"EN\", 'salary_in_usd']\n",
    "mi = df_ds.loc[df_ds['experience_level']==\"MI\", 'salary_in_usd']\n",
    "se = df_ds.loc[df_ds['experience_level']==\"SE\", 'salary_in_usd']\n",
    "\n",
    "# проводим тест Шапиро-Уилка\n",
    "print('Для \"EN\":')\n",
    "result = stats.shapiro(en)\n",
    "decision_normality(result[1])\n",
    "\n",
    "print('Для \"MI\":')\n",
    "result = stats.shapiro(mi)\n",
    "decision_normality(result[1])\n",
    "\n",
    "print('Для \"SE\":')\n",
    "result = stats.shapiro(se)\n",
    "decision_normality(result[1])"
   ]
  },
  {
   "cell_type": "markdown",
   "metadata": {},
   "source": [
    "Чтобы проверить нашу гипотезу, можно использовать критерий Краскела — Уоллиса (однофакторный дисперсионный анализ на рангах)\n",
    "\n",
    "**Сформулируем нулевую и альтернативные гипотезы**\n",
    "\n",
    "*Нулевая гипотеза* ($H_0$): распределение зарплат у всех специалистов равны:\n",
    "$$H_0: s = m = l$$\n",
    "\n",
    "*Альтернативная гипотеза* ($H_1$): распределение зарплат у всех специалистов не равны:\n",
    "$$H_1 s \\neq m \\neq l$$"
   ]
  },
  {
   "cell_type": "code",
   "execution_count": 62,
   "metadata": {},
   "outputs": [
    {
     "name": "stdout",
     "output_type": "stream",
     "text": [
      "p-value = 0.000\n",
      "p-значение меньше, чем заданный уровень значимости 0.05. Отвергаем нулевую гипотезу в пользу альтернативной.\n"
     ]
    }
   ],
   "source": [
    "# проводим тест\n",
    "_, p = stats.kruskal(en,mi,se)\n",
    "\n",
    "decision_hypothesis(p)"
   ]
  },
  {
   "cell_type": "markdown",
   "metadata": {},
   "source": [
    "У специалистов Data Scientist разные зарплаты по уровню классификации."
   ]
  },
  {
   "cell_type": "markdown",
   "metadata": {},
   "source": [
    "Чтобы проверить нашу гипотезу, можно использовать двухвыборочный t-критерий, для сравнения средних значений в двух независимых группах.\n",
    "**Сформулируем нулевую и альтернативные гипотезы**\n",
    "\n",
    "*Нулевая гипотеза* ($H_0$): Зарплаты специалистов Data Scientist с уровнем классификации \"MI\"($\\mu_1$)  меньше или равны зарплатам  сотрудников с уровнем классификации \"EN\" ($\\mu_2$).\n",
    "\n",
    "$$H_0 : \\mu_1 \\leq \\mu_2$$\n",
    "\n",
    "*Альтернативная гипотеза* ($H_1$):Зарплаты специалистов Data Scientist с уровнем классификации \"MI\"($\\mu_1$) больше,чем у сотрудников с уровнем классификации \"EN\"($\\mu_2$).\n",
    "$$ H_1 : μ_1 > μ_2$$\n"
   ]
  },
  {
   "cell_type": "code",
   "execution_count": 59,
   "metadata": {},
   "outputs": [
    {
     "name": "stdout",
     "output_type": "stream",
     "text": [
      "Тест на равенство дисперсий\n",
      "p-value = 0.025\n",
      "Дисперсии не одинаковы, в stats.ttest_ind нужно использовать параметр equal_var=False.\n"
     ]
    }
   ],
   "source": [
    "# проводим тест Левена на равенство дисперсий\n",
    "print('Тест на равенство дисперсий')\n",
    "result = stats.levene(en,mi)\n",
    "p = result[1]\n",
    "print('p-value = {:.3f}'.format(p))\n",
    "\n",
    "# интерпретируем результат\n",
    "if p <= alpha:\n",
    "    print('Дисперсии не одинаковы, в stats.ttest_ind нужно использовать параметр equal_var=False.')\n",
    "else:\n",
    "    print('Дисперсии одинаковы, в stats.ttest_ind нужно использовать параметр equal_var=True.')"
   ]
  },
  {
   "cell_type": "code",
   "execution_count": 61,
   "metadata": {},
   "outputs": [
    {
     "name": "stdout",
     "output_type": "stream",
     "text": [
      "\n",
      "Тест на равенство средних\n",
      "p-value = 0.002\n",
      "p-значение меньше, чем заданный уровень значимости 0.05. Отвергаем нулевую гипотезу в пользу альтернативной.\n"
     ]
    }
   ],
   "source": [
    "# проводим тест на сравнение средних в группах\n",
    "print('\\nТест на равенство средних')\n",
    "_, p = stats.ttest_ind(en,mi, alternative='less', equal_var=False)\n",
    "decision_hypothesis(p)"
   ]
  },
  {
   "cell_type": "markdown",
   "metadata": {},
   "source": [
    "Чтобы проверить нашу гипотезу, можно использовать U-критерий Манна — Уитни для сравнения распределений на основе рангов.\n",
    "\n",
    "**Сформулируем нулевую и альтернативные гипотезы**\n",
    "\n",
    "*Нулевая гипотеза* ($H_0$): Зарплаты специалистов Data Scientist c опытом работы \"MI\" и \"SE\" одинаковые.\n",
    "\n",
    "*Альтернативная гипотеза* ($H_1$): Зарплаты специалистов Data Scientist c опытом работы \"MI\" и \"SE\" разные."
   ]
  },
  {
   "cell_type": "code",
   "execution_count": 63,
   "metadata": {},
   "outputs": [
    {
     "name": "stdout",
     "output_type": "stream",
     "text": [
      "p-value = 0.000\n",
      "p-значение меньше, чем заданный уровень значимости 0.05. Отвергаем нулевую гипотезу в пользу альтернативной.\n"
     ]
    }
   ],
   "source": [
    "_, p = stats.mannwhitneyu(mi,se)\n",
    "decision_hypothesis(p)"
   ]
  },
  {
   "cell_type": "markdown",
   "metadata": {},
   "source": [
    "**Вывод:** \n",
    "\n",
    "С повышением уровня классификации у специалистов растет зарплата. Можно сделать вывод, что большой опыт позволяет получать высокую зарплату."
   ]
  },
  {
   "cell_type": "markdown",
   "metadata": {},
   "source": [
    "## <center> Итоговые результаты исследования\n",
    "\n",
    "Мы провели большой статистический анализ по зарплате специалистов Data Scientist, в ходе которого:\n",
    "   \n",
    "* Разобрали какие факторы влияют на зарплату\n",
    "* Помотрели на распределение зарплат по грейдам\n",
    "* Выяснили, как компании отличаются по заработным платам, а также разобрали компании по размерности.\n",
    "\n",
    "Ответы на вопросы:\n",
    "\n",
    "* Мы можем предположить, что размер зарплат от года к году изменяется. Статистическим методом мы проверили отдельно каждый год. Из этого можно сделать вывод, что между 2020 годом и 2021 зарплата не изменилась. А между 2021 годом 2022 наблюдается тенденция к росту.\n",
    "\n",
    "* Заработные платы по специальностям Data Scientist и Data Engineer в 2022 году находятся на одном уровне.\n",
    "\n",
    "* Можно сделать вывод о соотношении размера заработной платы и количестве ее сотрудников. В маленьких компаниях, как правило, самая низкая заработная плата. В то время как, в средних компаниях заработная плата выше или такая же как в больших. \n",
    "\n",
    "* У нас нет оснований утверждать о присутсвии связи между наличием должностей Data Scientist и Data Engineer и размером компании.\n",
    "\n",
    "* Как мы выяснили, размер зарплаты не всегда зависит от опыта работы. Например, начинающие специалисты на небольших стартапах получают на 40-45% больше, чем в больших компаниях. Это может зависеть от количества монотонной работы, которую необходимо выполнять в больших масштабах. В целом, прослеживается иерархия зарплат от низкого уровня к более высокому, зарплата растет при повышении опыта работы."
   ]
  }
 ],
 "metadata": {
  "kernelspec": {
   "display_name": "Python 3",
   "language": "python",
   "name": "python3"
  },
  "language_info": {
   "codemirror_mode": {
    "name": "ipython",
    "version": 3
   },
   "file_extension": ".py",
   "mimetype": "text/x-python",
   "name": "python",
   "nbconvert_exporter": "python",
   "pygments_lexer": "ipython3",
   "version": "3.11.4"
  }
 },
 "nbformat": 4,
 "nbformat_minor": 2
}
